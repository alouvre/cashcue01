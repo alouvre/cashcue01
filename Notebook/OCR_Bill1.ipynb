{
  "cells": [
    {
      "cell_type": "markdown",
      "metadata": {
        "id": "dew6XBPBcbzh"
      },
      "source": [
        "Use OpenCV or NLTK kind of library to read text (OCR) from it and categories all images in the categories like Home utility, Grocery, Shopping, Vehicle expenditure, Entertainment and Investment.\n",
        "1. Extract the text from the images and store it in categorical wise CSV file. Each category\n",
        "have separate CSV file. [Marks: 15]\n",
        "2. Each CSV file store the information like date of bill, organization name which generate\n",
        "the bill, bill amount and tax information(if any) [Marks: 15]\n",
        "3. Show table which is showing the expenses details category wise and display them in\n",
        "pie chart. [Marks: 05]\n",
        "4. Give suggestion to user, based on his expenditure which lead to increase the saving.\n",
        "[Marks: 05]\n"
      ]
    },
    {
      "cell_type": "markdown",
      "source": [
        "## **Persiapkan Pustaka yang akan digunakan**"
      ],
      "metadata": {
        "id": "JDdHUxf0aeY9"
      }
    },
    {
      "cell_type": "code",
      "source": [
        "# !apt-get install tesseract-ocr\n",
        "# !apt-get install libtesseract-dev\n",
        "# !pip install pytesseract"
      ],
      "metadata": {
        "id": "lucXuEMccm54"
      },
      "execution_count": null,
      "outputs": []
    },
    {
      "cell_type": "code",
      "execution_count": null,
      "metadata": {
        "id": "pcvh1yV8cbzs"
      },
      "outputs": [],
      "source": [
        "# Pemrosesan Gambar\n",
        "from PIL import Image     # manipulasi gambar\n",
        "import pytesseract        # mengenali teks dari gambar\n",
        "import cv2                # pengolahan gambar dan computer vision\n",
        "# Argument Handling\n",
        "import argparse           # menghandle argumen baris perintah\n",
        "# Manajemen Sistem Operasi dan File\n",
        "import os                 # berinteraksi dengan sistem operasi\n",
        "# Analisis dan Visualisasi Data\n",
        "import pandas as pd       # analisis data\n",
        "import seaborn as sns     # membuat visualisasi data statistik\n",
        "import matplotlib.pyplot as plt # membuat plot/grafik\n",
        "import numpy as np              # komputasi numerik\n",
        "import csv                      # membaca dan menulis file CSV\n",
        "# Pemrosesan Bahasa Alami\n",
        "import nltk                     # pemrosesan bahasa alami\n",
        "import re                       # Modul untuk ekspresi reguler\n",
        "from nltk.tokenize import word_tokenize   # Modul untuk tokenisasi kata\n",
        "from nltk.corpus import wordnet           # pemrosesan bahasa alami"
      ]
    },
    {
      "cell_type": "markdown",
      "metadata": {
        "id": "RnntedmYcbzt"
      },
      "source": [
        "read the below dummy model as i have elaborated every step after the code.\n",
        "the below code shows how i created 7 csv files .i have gave demo of one bill in this notbook."
      ]
    },
    {
      "cell_type": "code",
      "source": [
        "# # lets make a protopye of first question\n",
        "# # to scan 100 images\n",
        "\n",
        "# #question 1\n",
        "#     for i in range(0,100):\n",
        "#      image=cv2.imread('bill{}.png'.format(i),0)\n",
        "\n",
        "#      text=(pytesseract.image_to_string(image)).lower()\n",
        "#      print(text)\n",
        "\n",
        "#      use the operaations to create list which contains date,organisation name and amount\n",
        "#      store it in a list\n",
        "\n",
        "#     #create a csv file\n",
        "#     file=['entertainment','investment','shopping','grocery','transport','home','others']\n",
        "#     for i in file:\n",
        "#     with open('{}.csv',format(file[i]), 'a', newline='') as csvfile:\n",
        "#         w = csv.writer(csvfile, delimiter=',',quoting=csv.QUOTE_MINIMAL)\n",
        "#         w.writerow(['date','organisation','amount'])\n",
        "#     #question 2->appening the contents\n",
        "#     #after identifing the category of the file\n",
        "#     #add the contents in thier respective csv file\n",
        "#     row_contents = [st,head,x]\n",
        "#     from csv import writer\n",
        "\n",
        "#         def append_list_as_row(file, list_of_elem):\n",
        "\n",
        "#             with open(file, 'a+', newline='') as write_obj:\n",
        "\n",
        "#             csv_writer = writer(write_obj)\n",
        "\n",
        "#             csv_writer.writerow(list_of_elem)\n",
        "#     append_list_as_row(filename, row_contents)\n",
        "#     #this is how appending was done.now you can save the notebook to make sure that csv file is saved.\n",
        "#     #and then begain with the data analysis part."
      ],
      "metadata": {
        "id": "bDc-vNKQ3VfM"
      },
      "execution_count": null,
      "outputs": []
    },
    {
      "cell_type": "markdown",
      "source": [
        "# **Question 1**\n",
        "\n",
        "Extract the text from the images and store it in categorical wise CSV file. Each category have separate CSV file"
      ],
      "metadata": {
        "id": "x_hLILsEXrhR"
      }
    },
    {
      "cell_type": "markdown",
      "source": [
        "## **Extract Text From The Images**"
      ],
      "metadata": {
        "id": "Zs5PpTQ5cH6v"
      }
    },
    {
      "cell_type": "markdown",
      "source": [
        "### Pilih File Gambar"
      ],
      "metadata": {
        "id": "gMZyigj3bC9-"
      }
    },
    {
      "cell_type": "code",
      "source": [
        "Image.open('bill3.png')"
      ],
      "metadata": {
        "colab": {
          "base_uri": "https://localhost:8080/"
        },
        "id": "aUNSl1W5dc2A",
        "outputId": "7eeaacf9-c903-4e72-8f2b-e4445ab5e4ad"
      },
      "execution_count": null,
      "outputs": [
        {
          "output_type": "execute_result",
          "data": {
            "text/plain": [
              "<PIL.PngImagePlugin.PngImageFile image mode=L size=323x462>"
            ],
            "image/png": "[encoded data removed]"
          },
          "metadata": {},
          "execution_count": 122
        }
      ]
    },
    {
      "cell_type": "code",
      "execution_count": null,
      "metadata": {
        "colab": {
          "base_uri": "https://localhost:8080/"
        },
        "id": "c7w28FlEcbzu",
        "outputId": "b3d16115-9b47-4416-b450-482abc8a6549"
      },
      "outputs": [
        {
          "output_type": "execute_result",
          "data": {
            "text/plain": [
              "array([[255, 255, 255, ..., 255, 241, 239],\n",
              "       [255, 255, 255, ..., 255, 241, 240],\n",
              "       [255, 255, 255, ..., 255, 244, 242],\n",
              "       ...,\n",
              "       [255, 255, 255, ..., 253, 255, 255],\n",
              "       [255, 255, 255, ..., 245, 255, 255],\n",
              "       [255, 255, 255, ..., 244, 255, 255]], dtype=uint8)"
            ]
          },
          "metadata": {},
          "execution_count": 123
        }
      ],
      "source": [
        "# Read an image\n",
        "image = cv2.imread('bill3.png', 0)\n",
        "image"
      ]
    },
    {
      "cell_type": "markdown",
      "source": [
        "### Ekstrak Teks dari Gambar"
      ],
      "metadata": {
        "id": "ZTSVWMl2bL_y"
      }
    },
    {
      "cell_type": "code",
      "execution_count": null,
      "metadata": {
        "colab": {
          "base_uri": "https://localhost:8080/"
        },
        "id": "-RT6IXyscbzu",
        "outputId": "4588c45b-2744-4f3f-8626-85defed47539"
      },
      "outputs": [
        {
          "output_type": "stream",
          "name": "stdout",
          "text": [
            "ying thai kitchen\n",
            "2220 queen anne ave n\n",
            "seattle wa 98109\n",
            "« (206) 285-8424 fax. (206) 285-8427\n",
            "‘uw .yingthaikitchen.com\n",
            "welcome to ying thai kitchen restaurant,\n",
            "\n",
            " \n",
            "\n",
            " \n",
            "\n",
            " \n",
            "\n",
            "order#:17 table 2\n",
            "date: 7/4/2013 7:28 pm\n",
            "\n",
            "server: jack (1.4)\n",
            "44 ginger lover $9.50\n",
            "[pork] [24#]\n",
            "\n",
            "brown rice $2.00\n",
            "total 2 iten(s) $11.50\n",
            "sales tax $1.09\n",
            "grand total $12.59\n",
            "tip guide\n",
            "\n",
            "tek=$1.89, 18%=62.27, 20%=82.52\n",
            "thank you very much,\n",
            "cone back again\n",
            "\f\n"
          ]
        }
      ],
      "source": [
        "text = pytesseract.image_to_string(image).lower()\n",
        "print(text)"
      ]
    },
    {
      "cell_type": "markdown",
      "source": [
        "### Identifikasi Tanggal"
      ],
      "metadata": {
        "id": "uXvmQ_kxbdeW"
      }
    },
    {
      "cell_type": "markdown",
      "source": [
        "Cara identifikasi tanggal berikut ini hanya berlaku untuk format tanggal D/M/YYYY."
      ],
      "metadata": {
        "id": "EKnb7XBYep46"
      }
    },
    {
      "cell_type": "code",
      "execution_count": null,
      "metadata": {
        "colab": {
          "base_uri": "https://localhost:8080/"
        },
        "id": "JC0_Ycq5cbzv",
        "outputId": "76c33a8e-ffaa-4218-feff-cacdfbf04ee2"
      },
      "outputs": [
        {
          "output_type": "stream",
          "name": "stdout",
          "text": [
            "7/4/2013\n"
          ]
        }
      ],
      "source": [
        "match = re.findall(r'\\d+[/.-]\\d+[/.-]\\d+', text)\n",
        "\n",
        "st = \" \".join(match)\n",
        "print(st)"
      ]
    },
    {
      "cell_type": "markdown",
      "source": [
        "Cara lain untuk identifikasi tanggal. Terkadang format tanggal pada semua struk tidak sama. Jadi jika tanggalnya seperti 1/03/17, bagian tahun akan berubah dari YY menjadi YYYY. Oleh karena itu, kode dibawah ini akan bekerja :"
      ],
      "metadata": {
        "id": "olT7t0iyeL4k"
      }
    },
    {
      "cell_type": "code",
      "source": [
        "# Formatting the date if required\n",
        "date_parts = st.split('/')\n",
        "\n",
        "# Add '20' to the year if it has only two digits\n",
        "if len(date_parts[2]) == 2:\n",
        "    date_parts[2] = '20' + date_parts[2]\n",
        "\n",
        "d = '/'.join(date_parts)\n",
        "# Output -> '01/07/2017'\n",
        "print(d)"
      ],
      "metadata": {
        "colab": {
          "base_uri": "https://localhost:8080/"
        },
        "id": "VCIWcT8a_Q6-",
        "outputId": "87e2c82b-d918-48c6-cc86-e32c22949238"
      },
      "execution_count": null,
      "outputs": [
        {
          "output_type": "stream",
          "name": "stdout",
          "text": [
            "7/4/2013\n"
          ]
        }
      ]
    },
    {
      "cell_type": "markdown",
      "source": [
        "Punkt adalah model machine learning tanpa pengawasan yang telah dilatih sebelumnya untuk tokenisasi (memisahkan teks menjadi kata).\n",
        "\n",
        "WordNet adalah basis data leksikal besar untuk bahasa Inggris dan digunakan untuk berbagai tugas pemrosesan bahasa alami."
      ],
      "metadata": {
        "id": "DdimVq35Ijb0"
      }
    },
    {
      "cell_type": "code",
      "execution_count": null,
      "metadata": {
        "colab": {
          "base_uri": "https://localhost:8080/"
        },
        "id": "vhGQWSTgcbzx",
        "outputId": "a5b3f222-d939-4c54-c3fa-8a003fb0f94a"
      },
      "outputs": [
        {
          "output_type": "execute_result",
          "data": {
            "text/plain": [
              "True"
            ]
          },
          "metadata": {},
          "execution_count": 127
        }
      ],
      "source": [
        "# Mengunduh model tokenizer Punkt\n",
        "nltk.download('punkt',quiet=True)\n",
        "# Mengunduh basis data leksikal WordNet\n",
        "nltk.download('wordnet',quiet=True)"
      ]
    },
    {
      "cell_type": "markdown",
      "source": [
        "### Identifikasi Judul"
      ],
      "metadata": {
        "id": "gjeyLYlwbnAu"
      }
    },
    {
      "cell_type": "markdown",
      "source": [
        "Cara identifikasi judul ini menggunakan Punkt tokenizer. Punkt tokenizer ini akan membagi teks menjadi kalimat-kalimat. Dimana judul terdapat pada baris pertama sehingga kita hanya akan mengambil baris pertama."
      ],
      "metadata": {
        "id": "mZp_nv6YIdM3"
      }
    },
    {
      "cell_type": "code",
      "execution_count": null,
      "metadata": {
        "colab": {
          "base_uri": "https://localhost:8080/"
        },
        "id": "MxwCfvUJcbzx",
        "outputId": "2d4f3196-fdfe-4891-c70f-1c6550b25510"
      },
      "outputs": [
        {
          "output_type": "stream",
          "name": "stdout",
          "text": [
            "ying thai kitchen\n"
          ]
        }
      ],
      "source": [
        "# Mengekstrak judul dari teks\n",
        "sent_tokens = nltk.sent_tokenize(text)\n",
        "title = sent_tokens[0].splitlines()[0]\n",
        "print(title)"
      ]
    },
    {
      "cell_type": "markdown",
      "source": [
        "Ada cara lain untuk mengidentifikasi judul. Cara ini akan membagi teks menjadi baris-baris berdasarkan karakter newline (\\n). Dimana kita hanya mengambil baris pertama sebagai judul."
      ],
      "metadata": {
        "id": "AoNPZnN4f73v"
      }
    },
    {
      "cell_type": "code",
      "source": [
        "# Cara lain untuk mengekstrak judul\n",
        "for i in text.split('\\n'):\n",
        "    break\n",
        "head = i\n",
        "print(head)"
      ],
      "metadata": {
        "colab": {
          "base_uri": "https://localhost:8080/"
        },
        "id": "VkvABBSo23cB",
        "outputId": "18252da8-7fef-4d54-bcf4-e5867a446fd2"
      },
      "execution_count": null,
      "outputs": [
        {
          "output_type": "stream",
          "name": "stdout",
          "text": [
            "ying thai kitchen\n"
          ]
        }
      ]
    },
    {
      "cell_type": "markdown",
      "source": [
        "### Identifikasi Total Harga"
      ],
      "metadata": {
        "id": "OVdhDnOhbqGh"
      }
    },
    {
      "cell_type": "markdown",
      "source": [
        "Cara untuk mengidentifikasi harga tertinggi yang tercantum dalam tagihan dengan memperhitungkan simbol mata uang yang mungkin digunakan."
      ],
      "metadata": {
        "id": "2G3twvmbLkwm"
      }
    },
    {
      "cell_type": "code",
      "execution_count": null,
      "metadata": {
        "colab": {
          "base_uri": "https://localhost:8080/"
        },
        "id": "t5XakriNcbzy",
        "outputId": "e19cf52b-f058-428d-8241-edcf2bdd136f"
      },
      "outputs": [
        {
          "output_type": "stream",
          "name": "stdout",
          "text": [
            "12.59\n"
          ]
        }
      ],
      "source": [
        "# Mengekstrak harga dari teks\n",
        "price = re.findall(r'[\\$\\£\\€](\\d+(?:\\.\\d{1,2})?)', text)\n",
        "price = list(map(float, price))\n",
        "max_price = max(price)\n",
        "print(max_price)"
      ]
    },
    {
      "cell_type": "code",
      "source": [
        "x = max_price"
      ],
      "metadata": {
        "id": "4QUvT-QVHVJU"
      },
      "execution_count": null,
      "outputs": []
    },
    {
      "cell_type": "markdown",
      "source": [
        "- Kode diatas menggunakan ekprresi reguler re.findall untuk mencari pola harga dalam teks. Pola ini mencocokan simbol mata uang seperti $, £, €. Diikuti oleh satu/lebih digit (\\d+). Opsional satu/dua digit desimal (.\\d{1,2}). Outputnya daftar harga yang ditemukan.\n",
        "- Daftar harga yang ditemukan dikonversi menjadi daftar nilai float. Hal ini perlu karena hasil dari re.findall awalnya berupa string. Output yang diinginkan berupa nilai numerik.\n",
        "- Nilai maksimum yang ditemukan dalam daftar harga. Hal ini untuk menemukan harga tertinggi diantara item-item yang terdaftar dalam tagihan\n",
        "\n",
        "Secara keseluruhan, kode ini berguna untuk menemukan dan mencetak harga tertinggi yang tercantum dalam tagihan, dengan memperhitungkan simbol mata uang yang mungkin digunakan."
      ],
      "metadata": {
        "id": "knVQ3I4RiDXi"
      }
    },
    {
      "cell_type": "markdown",
      "source": [
        "Ketika pemindaian atau ekstraksi informasi dari beberapa tagihan, ada beberapa tagihan (antara 5-6 tagihan) yang tidak dapat di-scan dengan benar menggunakan metode yang telah digunakan sebelumnya. Maka untuk menangani kasus-kasus tersebut perlu alternatif lain."
      ],
      "metadata": {
        "id": "U4j84LGCj6CN"
      }
    },
    {
      "cell_type": "code",
      "source": [
        "# for i in range(len(new_words)):\n",
        "#     if new_words[i] == 'grand' and new_words[i+1] == 'total':\n",
        "#         break\n",
        "# price = new_words[i+2]\n",
        "# print(price)\n",
        "# x = price"
      ],
      "metadata": {
        "id": "GwVw7YuJMBIc"
      },
      "execution_count": null,
      "outputs": []
    },
    {
      "cell_type": "markdown",
      "source": [
        "- Melakukan iterasi melalui indeks dari new_words\n",
        "- Mengecek apakah ada dua kata berturut-turut dalam new_words yaitu grand dan total. Bila ya maka looping selesai.\n",
        "- Mengambil kata yang berada dua indeks setelah kata 'total'. Kata ini diasumsikan sebagai nilai price.\n",
        "\n",
        "Dengan menggunakan pendekatan ini, diharapkan dapat mengatasi kendala saat menangani tagihan yang tidak dapat di-scan secara benar, terutama untuk menemukan nilai total (grand total) dalam tagihan tersebut."
      ],
      "metadata": {
        "id": "c-dbp7sWkaOF"
      }
    },
    {
      "cell_type": "markdown",
      "source": [
        "### Pra-pemrosesan Teks"
      ],
      "metadata": {
        "id": "pjLt1T63lJmp"
      }
    },
    {
      "cell_type": "markdown",
      "source": [
        "Hingga tahap ini, kita berhasil mengekstrak informasi tanggal, judul, dan jumlah (amount) dari teks.\n",
        "\n",
        "Sebelum kita akan mengategorikan tagihan (bill), apakah itu berkaitan dengan belanja atau kelontong, dan mungkin kategori lainnya.\n",
        "\n",
        "Kita perlu melakukan tokenisasi pada teks. Tokenisasi pada teks ini yaitu memecah teks menjadi kata-kata atau token-token. Kemudian, program akan mencari kata kunci (keywords) dalam token-token tersebut untuk menentukan kategori tagihan."
      ],
      "metadata": {
        "id": "pAe-ZRb9OCPB"
      }
    },
    {
      "cell_type": "code",
      "execution_count": null,
      "metadata": {
        "colab": {
          "base_uri": "https://localhost:8080/"
        },
        "id": "pvfRqmEjcbzz",
        "outputId": "5c0f195b-a6f5-4dd1-efc3-9cf52de3db0d"
      },
      "outputs": [
        {
          "output_type": "stream",
          "name": "stdout",
          "text": [
            "['ying', 'thai', 'kitchen', '2220', 'queen', 'anne', 'ave', 'n', 'seattle', 'wa', '98109', '«', '(', '206', ')', '285-8424', 'fax', '.', '(', '206', ')', '285-8427', '‘', 'uw', '.yingthaikitchen.com', 'welcome', 'to', 'ying', 'thai', 'kitchen', 'restaurant', ',', 'order', '#', ':17', 'table', '2', 'date', ':', '7/4/2013', '7:28', 'pm', 'server', ':', 'jack', '(', '1.4', ')', '44', 'ginger', 'lover', '$', '9.50', '[', 'pork', ']', '[', '24', '#', ']', 'brown', 'rice', '$', '2.00', 'total', '2', 'iten', '(', 's', ')', '$', '11.50', 'sales', 'tax', '$', '1.09', 'grand', 'total', '$', '12.59', 'tip', 'guide', 'tek=', '$', '1.89', ',', '18', '%', '=62.27', ',', '20', '%', '=82.52', 'thank', 'you', 'very', 'much', ',', 'cone', 'back', 'again']\n"
          ]
        }
      ],
      "source": [
        "# Tokenisasi teks\n",
        "tokens = word_tokenize(text)\n",
        "print(tokens)"
      ]
    },
    {
      "cell_type": "markdown",
      "source": [
        "Teks berhasil ditokenisasi. Namun pada hasilnya terdapat tanda baca yang tidak diperlu untuk proses analisis teks lanjutan. Maka perlu dihilangkan agar dapat bekerja dengan kata-kata dalam bentuk yag lebih bersih."
      ],
      "metadata": {
        "id": "HTKGlPfePyN1"
      }
    },
    {
      "cell_type": "code",
      "execution_count": null,
      "metadata": {
        "colab": {
          "base_uri": "https://localhost:8080/"
        },
        "id": "0Y0eRXfncbz0",
        "outputId": "a2782867-46ba-4e87-d1a0-06e2054c622c"
      },
      "outputs": [
        {
          "output_type": "stream",
          "name": "stdout",
          "text": [
            "['ying', 'thai', 'kitchen', '2220', 'queen', 'anne', 'ave', 'n', 'seattle', 'wa', '98109', '206', '285', '8424', 'fax', '206', '285', '8427', 'uw', 'yingthaikitchen', 'com', 'welcome', 'to', 'ying', 'thai', 'kitchen', 'restaurant', 'order', '17', 'table', '2', 'date', '7', '4', '2013', '7', '28', 'pm', 'server', 'jack', '1', '4', '44', 'ginger', 'lover', '9', '50', 'pork', '24', 'brown', 'rice', '2', '00', 'total', '2', 'iten', 's', '11', '50', 'sales', 'tax', '1', '09', 'grand', 'total', '12', '59', 'tip', 'guide', 'tek', '1', '89', '18', '62', '27', '20', '82', '52', 'thank', 'you', 'very', 'much', 'cone', 'back', 'again']\n"
          ]
        }
      ],
      "source": [
        "# Menghilangkan tanda baca yang tidak diperlukan\n",
        "tokenizer = nltk.RegexpTokenizer(r\"\\w+\")\n",
        "new_words = tokenizer.tokenize(text)\n",
        "print(new_words)"
      ]
    },
    {
      "cell_type": "markdown",
      "source": [
        "Terlihat bahwa output dari new_words terdapat kata-kata umum yang sering tidak memberikan kontribusi signifikan terhadap makna. Kata-kata umum yang dimaksudkan seperti a, an, the, and, is, dll. Maka disini kita akan menggunakan STOPWORDS.\n",
        "\n",
        "Pertama, kita perlu mengunduh daftar STOPWORDS dari modul NLTK."
      ],
      "metadata": {
        "id": "d5cIrryWQK4-"
      }
    },
    {
      "cell_type": "code",
      "execution_count": null,
      "metadata": {
        "colab": {
          "base_uri": "https://localhost:8080/"
        },
        "id": "KG2uaX1Gcbz0",
        "outputId": "fdb363ef-b8e8-49db-d465-0763a77126fd"
      },
      "outputs": [
        {
          "output_type": "stream",
          "name": "stderr",
          "text": [
            "[nltk_data] Downloading package stopwords to /root/nltk_data...\n",
            "[nltk_data]   Package stopwords is already up-to-date!\n"
          ]
        },
        {
          "output_type": "execute_result",
          "data": {
            "text/plain": [
              "True"
            ]
          },
          "metadata": {},
          "execution_count": 135
        }
      ],
      "source": [
        "# Mengunduh Stopwords dari NLTK\n",
        "nltk.download('stopwords')"
      ]
    },
    {
      "cell_type": "code",
      "execution_count": null,
      "metadata": {
        "id": "YASzhYXzcbz1"
      },
      "outputs": [],
      "source": [
        "# Membuat Set Stopwords dalam Bahasa Inggris\n",
        "stop_words = set(nltk.corpus.stopwords.words('english'))"
      ]
    },
    {
      "cell_type": "markdown",
      "source": [
        "Setelah set stopwords dibuat, kita akan membuat daftar kata-kata filtered_list yang tidak termasuk dalam stopwords. Hal ini dilakukan dengan menggunakan list comprehension dan memeriksa apkah setiap kata dalam new_words tidak ada dalam set stopwords."
      ],
      "metadata": {
        "id": "5ppCh6kEs7-B"
      }
    },
    {
      "cell_type": "code",
      "execution_count": null,
      "metadata": {
        "colab": {
          "base_uri": "https://localhost:8080/"
        },
        "id": "1UqmKZaacbz1",
        "outputId": "0044cfe4-7659-406e-9b0d-9992e9acc966"
      },
      "outputs": [
        {
          "output_type": "stream",
          "name": "stdout",
          "text": [
            "['ying', 'thai', 'kitchen', '2220', 'queen', 'anne', 'ave', 'n', 'seattle', 'wa', '98109', '206', '285', '8424', 'fax', '206', '285', '8427', 'uw', 'yingthaikitchen', 'com', 'welcome', 'ying', 'thai', 'kitchen', 'restaurant', 'order', '17', 'table', '2', 'date', '7', '4', '2013', '7', '28', 'pm', 'server', 'jack', '1', '4', '44', 'ginger', 'lover', '9', '50', 'pork', '24', 'brown', 'rice', '2', '00', 'total', '2', 'iten', '11', '50', 'sales', 'tax', '1', '09', 'grand', 'total', '12', '59', 'tip', 'guide', 'tek', '1', '89', '18', '62', '27', '20', '82', '52', 'thank', 'much', 'cone', 'back']\n"
          ]
        }
      ],
      "source": [
        "# Membuat daftar kata-kata dari new_words yang tidak termasuk dalam stopwords\n",
        "filtered_list = [w for w in new_words if w not in stop_words]\n",
        "print(filtered_list)"
      ]
    },
    {
      "cell_type": "markdown",
      "source": [
        "## **Buat 6 Daftar Kategori Berdasarkan Kata Kunci yang Berkaitan**"
      ],
      "metadata": {
        "id": "W7uFey_BYIO8"
      }
    },
    {
      "cell_type": "markdown",
      "metadata": {
        "id": "hOaXO3fdcbz1"
      },
      "source": [
        "Dalam enam blok berikutnya, kita akan membuat enam daftar kategori. Setiap daftar ini akan berisi beberapa kata yang berkaitan dengan kategori tagihan tertentu. Sebagai contoh, kata-kata seperti \"kitchen\", \"food\", atau \"restaurant\" mungkin terkandung dalam tagihan dari restoran.\n",
        "\n",
        "Oleh karena itu, kita akan membandingkan kata-kata dalam teks tagihan dengan setiap daftar kategori, dan kemudian mengalokasikan tagihan tersebut ke dalam kategori yang sesuai berdasarkan kemiripan kata-kata tersebut."
      ]
    },
    {
      "cell_type": "markdown",
      "source": [
        "### **Entertainment**"
      ],
      "metadata": {
        "id": "6RYOd8mIVDTE"
      }
    },
    {
      "cell_type": "code",
      "execution_count": null,
      "metadata": {
        "id": "EVgIuk5Qcbz1"
      },
      "outputs": [],
      "source": [
        "entertainment = []\n",
        "for syn in wordnet.synsets(\"entertainment\"):\n",
        "    for l in syn.lemmas():\n",
        "        entertainment.append(l.name())\n",
        "\n",
        "l = ['happy','restaurant','food','kitchen','hotel','room','park','movie','cinema','popcorn','combo meal']\n",
        "entertainment += l"
      ]
    },
    {
      "cell_type": "markdown",
      "source": [
        "Kode ini membuat daftar kata kunci yang berkaitan dengan kategori \"entertainment\". Kita menggunakan WordNet (dari NLTK) untuk mendapatkan sinonim kata \"entertainment\" dan menambahkan kata-kata tambahan yang mungkin terkait dengan tagihan hiburan, seperti restoran, makanan, dll."
      ],
      "metadata": {
        "id": "4KqplGhWWLC6"
      }
    },
    {
      "cell_type": "markdown",
      "source": [
        "### **Home Utility**"
      ],
      "metadata": {
        "id": "07nunZriVO9r"
      }
    },
    {
      "cell_type": "code",
      "execution_count": null,
      "metadata": {
        "id": "1LeyGxYCcbz2"
      },
      "outputs": [],
      "source": [
        "home_utility=[]\n",
        "for syn in wordnet.synsets(\"home\"):\n",
        "    for l in syn.lemmas():\n",
        "         home_utility.append(l.name())\n",
        "l2 = ['internet','telephone','elecricity','meter','wifi','broadband','consumer','reading','gas','water','postpaid','prepaid']\n",
        "home_utility += l2"
      ]
    },
    {
      "cell_type": "markdown",
      "source": [
        "Kode ini membuat daftar kata kunci yang berkaitan dengan kategori \"home utility\". Kita menggunakan WordNet (dari NLTK) untuk mendapatkan sinonim kata \"home\" dan menambahkan kata-kata tambahan yang mungkin terkait dengan tagihan utilitas rumah, seperti internet, telepon, listrik, dll."
      ],
      "metadata": {
        "id": "KPS3f_9TWiWL"
      }
    },
    {
      "cell_type": "markdown",
      "source": [
        "### **Grocery**"
      ],
      "metadata": {
        "id": "A_hPiiHWVTf5"
      }
    },
    {
      "cell_type": "code",
      "execution_count": null,
      "metadata": {
        "id": "xDA0MyyGcbz2"
      },
      "outputs": [],
      "source": [
        "grocery=[]\n",
        "for syn in wordnet.synsets(\"grocery\"):\n",
        "    for l in syn.lemmas():\n",
        "         grocery.append(l.name())\n",
        "l3=['bigbasket','milk','atta','sugar','suflower','oil','bread','vegetabe','fruit','salt','paneer']\n",
        "grocery+=l3\n"
      ]
    },
    {
      "cell_type": "markdown",
      "source": [
        "Kode ini membuat daftar kata kunci yang berkaitan dengan kategori \"grocery\". Kita menggunakan WordNet (dari NLTK) untuk mendapatkan sinonim kata \"grocery\" dan menambahkan kata-kata tambahan yang mungkin terkait dengan tagihan belanja bahan makanan, seperti susu, roti, sayuran, dll."
      ],
      "metadata": {
        "id": "UozijWKvWxuX"
      }
    },
    {
      "cell_type": "markdown",
      "source": [
        "### **Investment**"
      ],
      "metadata": {
        "id": "-oDPQGGSVXho"
      }
    },
    {
      "cell_type": "code",
      "execution_count": null,
      "metadata": {
        "id": "GcxsHcr2cbz2"
      },
      "outputs": [],
      "source": [
        "investment=[]\n",
        "for syn in wordnet.synsets(\"investment\"):\n",
        "    for l in syn.lemmas():\n",
        "         investment.append(l.name())\n",
        "l1=['endowment','grant','loan','applicant','income','expenditure','profit','interest','expense','finance','property','money','fixed','deposit','kissan','vikas']\n",
        "investment=investment+l1"
      ]
    },
    {
      "cell_type": "markdown",
      "source": [
        "Kode ini membuat daftar kata kunci yang berkaitan dengan kategori \"investment\". Kita menggunakan WordNet (dari NLTK) untuk mendapatkan sinonim kata \"investment\" dan menambahkan kata-kata tambahan yang mungkin terkait dengan tagihan investasi, seperti pendapatan, pengeluaran, keuntungan, dll."
      ],
      "metadata": {
        "id": "TO-yMh0SXHN2"
      }
    },
    {
      "cell_type": "markdown",
      "source": [
        "### **Travel and Transportation**"
      ],
      "metadata": {
        "id": "z45T0oCDVbWK"
      }
    },
    {
      "cell_type": "code",
      "execution_count": null,
      "metadata": {
        "id": "xhSOX0Qtcbz2"
      },
      "outputs": [],
      "source": [
        "transport=[]\n",
        "for syn in wordnet.synsets(\"car\"):\n",
        "    for l in syn.lemmas():\n",
        "         transport.append(l.name())\n",
        "l4=['cab','ola','uber','autorickshaw','railway','air','emirates','aerofloat','taxi','booking','road','highway']\n",
        "transport+=l4"
      ]
    },
    {
      "cell_type": "markdown",
      "source": [
        "Kode ini membuat daftar kata kunci yang berkaitan dengan kategori \"transport\" atau \"car\". Kita menggunakan WordNet untuk mendapatkan sinonim kata \"car\" dan menambahkan kata-kata tambahan yang mungkin terkait dengan tagihan transportasi atau kendaraan, seperti taksi, pemesanan, jalan, dll."
      ],
      "metadata": {
        "id": "ZzfirCsvXTOA"
      }
    },
    {
      "cell_type": "markdown",
      "source": [
        "### **Shopping**"
      ],
      "metadata": {
        "id": "kXtYmyiQVfnv"
      }
    },
    {
      "cell_type": "code",
      "execution_count": null,
      "metadata": {
        "id": "3nTfwEK1cbz3"
      },
      "outputs": [],
      "source": [
        "shopping=[]\n",
        "for syn in wordnet.synsets(\"dress\"):\n",
        "    for l in syn.lemmas():\n",
        "         shopping.append(l.name())\n",
        "l4=['iphone','laptop','saree','max','pantaloons','westside','vedic','makeup','lipstick','cosmetics','mac','facewash','heels','crocs','footwear','purse']\n",
        "shopping+=l4"
      ]
    },
    {
      "cell_type": "markdown",
      "source": [
        "Kode ini membuat daftar kata kunci yang berkaitan dengan kategori \"shopping\" atau \"dress\". Kita menggunakan WordNet untuk mendapatkan sinonim kata \"dress\" dan menambahkan kata-kata tambahan yang mungkin terkait dengan tagihan belanja pakaian atau barang-barang fashion, seperti smartphone, laptop, makeup, dll."
      ],
      "metadata": {
        "id": "Ys4ordnNXffY"
      }
    },
    {
      "cell_type": "markdown",
      "source": [
        "## **Penentu Kategori Tagihan Berdasarkan Kata Kunci dalam filtered_list**"
      ],
      "metadata": {
        "id": "v5n-19T3YUld"
      }
    },
    {
      "cell_type": "markdown",
      "source": [
        "Tahap ini bertujuan untuk menentukan kategori tagihan berdasarkan kata-kata kunci dalam filtered_list. Setiap kategori (entertainment, investment, grocery, shopping, transport, home_utility) memiliki daftar kata-kata kunci yang telah ditentukan sebelumnya. Jika kata dalam filtered_list cocok dengan salah satu dari daftar kata-kunci tersebut, variabel yang sesuai dengan kategori tersebut akan diatur menjadi True.\n",
        "\n",
        "Namun, ada beberapa masalah potensial dalam logika ini. Jika tagihan termasuk dalam lebih dari satu kategori, maka hanya kategori pertama yang ditemukan akan diatur menjadi True, dan loop akan dihentikan. Selain itu, karena variabel kategori (e, inv, g, s, t, h) tidak direset ke False setiap kali loop dimulai, hasilnya mungkin tidak sesuai dengan harapan jika suatu tagihan dapat masuk ke beberapa kategori."
      ],
      "metadata": {
        "id": "YKLLMhZpYyTK"
      }
    },
    {
      "cell_type": "code",
      "execution_count": null,
      "metadata": {
        "id": "6DI7NoSBcbz3"
      },
      "outputs": [],
      "source": [
        "e, inv, g, s, t, h = False, False, False, False, False, False\n",
        "\n",
        "for word in filtered_list:\n",
        "    if word in entertainment:\n",
        "        e=True\n",
        "        break\n",
        "    elif word in investment:\n",
        "        inv=True\n",
        "        break\n",
        "    elif word in grocery:\n",
        "        g=True\n",
        "        break\n",
        "    elif word in shopping:\n",
        "        s=True\n",
        "        break\n",
        "    elif word in transport:\n",
        "        t=True\n",
        "        break\n",
        "    elif word in home_utility:\n",
        "        h=True\n",
        "        break"
      ]
    },
    {
      "cell_type": "markdown",
      "source": [
        "## **Buat file CSV Berdasarkan Daftar Kategori**"
      ],
      "metadata": {
        "id": "WYacbC6-wvo5"
      }
    },
    {
      "cell_type": "code",
      "execution_count": null,
      "metadata": {
        "collapsed": true,
        "jupyter": {
          "outputs_hidden": true
        },
        "id": "uqZ7Uxrocbz3"
      },
      "outputs": [],
      "source": [
        "categories = ['entertainment', 'investment', 'shopping', 'grocery', 'transport', 'home', 'others']\n",
        "\n",
        "# Membuat direktori 'output' jika belum ada\n",
        "output_directory = 'output'\n",
        "os.makedirs(output_directory, exist_ok=True)\n",
        "\n",
        "for category in categories:\n",
        "    csv_file_path = os.path.join(output_directory, f'{category}.csv')\n",
        "    with open(csv_file_path, 'a', newline='') as csvfile:\n",
        "        spamwriter = csv.writer(csvfile, delimiter=',', quoting=csv.QUOTE_MINIMAL)\n",
        "        # Menulis header hanya jika file CSV baru dibuat\n",
        "        if os.path.getsize(csv_file_path) == 0:\n",
        "            spamwriter.writerow(['Date', 'Organisation', 'Amount'])"
      ]
    },
    {
      "cell_type": "markdown",
      "source": [
        "# **Question 2**"
      ],
      "metadata": {
        "id": "umaqPhGWaLcv"
      }
    },
    {
      "cell_type": "code",
      "execution_count": null,
      "metadata": {
        "colab": {
          "base_uri": "https://localhost:8080/"
        },
        "id": "FhXEefBocbz4",
        "outputId": "974cea22-9412-4c75-b0b1-88782d4f946e"
      },
      "outputs": [
        {
          "output_type": "stream",
          "name": "stdout",
          "text": [
            "entertainment category\n"
          ]
        }
      ],
      "source": [
        "# this code the category in which the bill belongs to\n",
        "# if e is true then entertainment categrory and we will ,ake filename as entertainment.csv using\n",
        "# formatting\n",
        "if(e):\n",
        "    print(\"entertainment category\")\n",
        "    filename='{}.csv'.format('output/entertainment')\n",
        "    #df=pd.read_csv('entertainment.csv')\n",
        "elif(inv):\n",
        "    print(\"investment category\")\n",
        "    filename='{}.csv'.format('output/investment')\n",
        "    #df=pd.read_csv('investment.csv')\n",
        "elif(s):\n",
        "    print(\"shopping category\")\n",
        "    filename='{}.csv'.format('output/shopping')\n",
        "    #df=pd.read_csv('shopping.csv')\n",
        "elif(g):\n",
        "    print(\"grocery category\")\n",
        "    filename='{}.csv'.format('output/grocery')\n",
        "    #df=pd.read_csv('grocery.csv')\n",
        "elif(t):\n",
        "    print(\"transport category\")\n",
        "    filename='{}.csv'.format('output/transport')\n",
        "    #df=pd.read_csv('transport.csv')\n",
        "elif(h):\n",
        "    print(\"home utility category\")\n",
        "    filename='{}.csv'.format('output/home')\n",
        "    #df=pd.read_csv('home.csv')\n",
        "else:\n",
        "    print(\"others\")\n",
        "    filename='{}.csv'.format('output/others')\n",
        "    #df=pd.read_csv('others.csv')\n",
        "\n",
        "\n"
      ]
    },
    {
      "cell_type": "code",
      "execution_count": null,
      "metadata": {
        "id": "G8P9Tm4zcbz4"
      },
      "outputs": [],
      "source": [
        "# add the contents in thier respective csv file\n",
        "row_contents = [st, head, x]\n",
        "from csv import writer\n",
        "\n",
        "def append_list_as_row(file, list_of_elem):\n",
        "\n",
        "    with open(file, 'a+', newline='') as write_obj:\n",
        "\n",
        "        csv_writer = writer(write_obj)\n",
        "\n",
        "        csv_writer.writerow(list_of_elem)\n",
        "append_list_as_row(filename, row_contents)"
      ]
    },
    {
      "cell_type": "raw",
      "metadata": {
        "id": "tyVb5ycucbz5"
      },
      "source": [
        "this was the end of question one and two where we read image,converted into text ,extracted data and stored in the respective category.\n",
        "now we will move on to third and fourth question that is all about data analysis\n",
        "woohooo this is my favourite part."
      ]
    },
    {
      "cell_type": "code",
      "execution_count": null,
      "metadata": {
        "id": "KSENU3zDcbz5"
      },
      "outputs": [],
      "source": [
        "#after this make sure you save it\n",
        "entertainment = pd.read_csv('output/entertainment.csv')\n",
        "home = pd.read_csv('output/home.csv')\n",
        "investment = pd.read_csv('output/investment.csv')\n",
        "shopping = pd.read_csv('output/shopping.csv')\n",
        "grocery = pd.read_csv('output/grocery.csv')\n",
        "transport = pd.read_csv('output/transport.csv')\n",
        "other = pd.read_csv('output/others.csv')"
      ]
    },
    {
      "cell_type": "code",
      "execution_count": null,
      "metadata": {
        "id": "KjTshtJFcbz5"
      },
      "outputs": [],
      "source": [
        "# Pastikan kolom 'Date' dalam format yang benar dan tidak ada nilai yang hilang\n",
        "entertainment['Date'] = pd.to_datetime(entertainment['Date'], errors='coerce')\n",
        "investment['Date'] = pd.to_datetime(investment['Date'], errors='coerce')\n",
        "shopping['Date'] = pd.to_datetime(shopping['Date'], errors='coerce')\n",
        "grocery['Date'] = pd.to_datetime(grocery['Date'], errors='coerce')\n",
        "transport['Date'] = pd.to_datetime(transport['Date'], errors='coerce')\n",
        "other['Date'] = pd.to_datetime(other['Date'], errors='coerce')\n",
        "home['Date'] = pd.to_datetime(home['Date'], errors='coerce')"
      ]
    },
    {
      "cell_type": "markdown",
      "source": [
        "# **Question 3**"
      ],
      "metadata": {
        "id": "Z73527q3aSUX"
      }
    },
    {
      "cell_type": "code",
      "execution_count": null,
      "metadata": {
        "colab": {
          "base_uri": "https://localhost:8080/",
          "height": 81
        },
        "id": "aIUoHrdPcbz6",
        "outputId": "a03f69e2-3ede-4ad2-ec14-ca20b64be1d1"
      },
      "outputs": [
        {
          "output_type": "execute_result",
          "data": {
            "text/plain": [
              "        Date       Organisation  Amount\n",
              "0 2013-07-04  ying thai kitchen   12.59"
            ],
            "text/html": [
              "\n",
              "  <div id=\"df-198ca545-2aca-4ff4-8345-56289ae1fd36\" class=\"colab-df-container\">\n",
              "    <div>\n",
              "<style scoped>\n",
              "    .dataframe tbody tr th:only-of-type {\n",
              "        vertical-align: middle;\n",
              "    }\n",
              "\n",
              "    .dataframe tbody tr th {\n",
              "        vertical-align: top;\n",
              "    }\n",
              "\n",
              "    .dataframe thead th {\n",
              "        text-align: right;\n",
              "    }\n",
              "</style>\n",
              "<table border=\"1\" class=\"dataframe\">\n",
              "  <thead>\n",
              "    <tr style=\"text-align: right;\">\n",
              "      <th></th>\n",
              "      <th>Date</th>\n",
              "      <th>Organisation</th>\n",
              "      <th>Amount</th>\n",
              "    </tr>\n",
              "  </thead>\n",
              "  <tbody>\n",
              "    <tr>\n",
              "      <th>0</th>\n",
              "      <td>2013-07-04</td>\n",
              "      <td>ying thai kitchen</td>\n",
              "      <td>12.59</td>\n",
              "    </tr>\n",
              "  </tbody>\n",
              "</table>\n",
              "</div>\n",
              "    <div class=\"colab-df-buttons\">\n",
              "\n",
              "  <div class=\"colab-df-container\">\n",
              "    <button class=\"colab-df-convert\" onclick=\"convertToInteractive('df-198ca545-2aca-4ff4-8345-56289ae1fd36')\"\n",
              "            title=\"Convert this dataframe to an interactive table.\"\n",
              "            style=\"display:none;\">\n",
              "\n",
              "  <svg xmlns=\"http://www.w3.org/2000/svg\" height=\"24px\" viewBox=\"0 -960 960 960\">\n",
              "    <path d=\"M120-120v-720h720v720H120Zm60-500h600v-160H180v160Zm220 220h160v-160H400v160Zm0 220h160v-160H400v160ZM180-400h160v-160H180v160Zm440 0h160v-160H620v160ZM180-180h160v-160H180v160Zm440 0h160v-160H620v160Z\"/>\n",
              "  </svg>\n",
              "    </button>\n",
              "\n",
              "  <style>\n",
              "    .colab-df-container {\n",
              "      display:flex;\n",
              "      gap: 12px;\n",
              "    }\n",
              "\n",
              "    .colab-df-convert {\n",
              "      background-color: #E8F0FE;\n",
              "      border: none;\n",
              "      border-radius: 50%;\n",
              "      cursor: pointer;\n",
              "      display: none;\n",
              "      fill: #1967D2;\n",
              "      height: 32px;\n",
              "      padding: 0 0 0 0;\n",
              "      width: 32px;\n",
              "    }\n",
              "\n",
              "    .colab-df-convert:hover {\n",
              "      background-color: #E2EBFA;\n",
              "      box-shadow: 0px 1px 2px rgba(60, 64, 67, 0.3), 0px 1px 3px 1px rgba(60, 64, 67, 0.15);\n",
              "      fill: #174EA6;\n",
              "    }\n",
              "\n",
              "    .colab-df-buttons div {\n",
              "      margin-bottom: 4px;\n",
              "    }\n",
              "\n",
              "    [theme=dark] .colab-df-convert {\n",
              "      background-color: #3B4455;\n",
              "      fill: #D2E3FC;\n",
              "    }\n",
              "\n",
              "    [theme=dark] .colab-df-convert:hover {\n",
              "      background-color: #434B5C;\n",
              "      box-shadow: 0px 1px 3px 1px rgba(0, 0, 0, 0.15);\n",
              "      filter: drop-shadow(0px 1px 2px rgba(0, 0, 0, 0.3));\n",
              "      fill: #FFFFFF;\n",
              "    }\n",
              "  </style>\n",
              "\n",
              "    <script>\n",
              "      const buttonEl =\n",
              "        document.querySelector('#df-198ca545-2aca-4ff4-8345-56289ae1fd36 button.colab-df-convert');\n",
              "      buttonEl.style.display =\n",
              "        google.colab.kernel.accessAllowed ? 'block' : 'none';\n",
              "\n",
              "      async function convertToInteractive(key) {\n",
              "        const element = document.querySelector('#df-198ca545-2aca-4ff4-8345-56289ae1fd36');\n",
              "        const dataTable =\n",
              "          await google.colab.kernel.invokeFunction('convertToInteractive',\n",
              "                                                    [key], {});\n",
              "        if (!dataTable) return;\n",
              "\n",
              "        const docLinkHtml = 'Like what you see? Visit the ' +\n",
              "          '<a target=\"_blank\" href=https://colab.research.google.com/notebooks/data_table.ipynb>data table notebook</a>'\n",
              "          + ' to learn more about interactive tables.';\n",
              "        element.innerHTML = '';\n",
              "        dataTable['output_type'] = 'display_data';\n",
              "        await google.colab.output.renderOutput(dataTable, element);\n",
              "        const docLink = document.createElement('div');\n",
              "        docLink.innerHTML = docLinkHtml;\n",
              "        element.appendChild(docLink);\n",
              "      }\n",
              "    </script>\n",
              "  </div>\n",
              "\n",
              "    </div>\n",
              "  </div>\n"
            ]
          },
          "metadata": {},
          "execution_count": 150
        }
      ],
      "source": [
        "#question3\n",
        "entertainment.head()"
      ]
    },
    {
      "cell_type": "code",
      "execution_count": null,
      "metadata": {
        "colab": {
          "base_uri": "https://localhost:8080/",
          "height": 53
        },
        "id": "RrYsd2bvcbz6",
        "outputId": "ffd878c1-af1c-4ca5-8035-0302c2a93cf3"
      },
      "outputs": [
        {
          "output_type": "execute_result",
          "data": {
            "text/plain": [
              "Empty DataFrame\n",
              "Columns: [Date, Organisation, Amount]\n",
              "Index: []"
            ],
            "text/html": [
              "\n",
              "  <div id=\"df-c905d055-9508-47b2-a857-d2cb3a8fac97\" class=\"colab-df-container\">\n",
              "    <div>\n",
              "<style scoped>\n",
              "    .dataframe tbody tr th:only-of-type {\n",
              "        vertical-align: middle;\n",
              "    }\n",
              "\n",
              "    .dataframe tbody tr th {\n",
              "        vertical-align: top;\n",
              "    }\n",
              "\n",
              "    .dataframe thead th {\n",
              "        text-align: right;\n",
              "    }\n",
              "</style>\n",
              "<table border=\"1\" class=\"dataframe\">\n",
              "  <thead>\n",
              "    <tr style=\"text-align: right;\">\n",
              "      <th></th>\n",
              "      <th>Date</th>\n",
              "      <th>Organisation</th>\n",
              "      <th>Amount</th>\n",
              "    </tr>\n",
              "  </thead>\n",
              "  <tbody>\n",
              "  </tbody>\n",
              "</table>\n",
              "</div>\n",
              "    <div class=\"colab-df-buttons\">\n",
              "\n",
              "  <div class=\"colab-df-container\">\n",
              "    <button class=\"colab-df-convert\" onclick=\"convertToInteractive('df-c905d055-9508-47b2-a857-d2cb3a8fac97')\"\n",
              "            title=\"Convert this dataframe to an interactive table.\"\n",
              "            style=\"display:none;\">\n",
              "\n",
              "  <svg xmlns=\"http://www.w3.org/2000/svg\" height=\"24px\" viewBox=\"0 -960 960 960\">\n",
              "    <path d=\"M120-120v-720h720v720H120Zm60-500h600v-160H180v160Zm220 220h160v-160H400v160Zm0 220h160v-160H400v160ZM180-400h160v-160H180v160Zm440 0h160v-160H620v160ZM180-180h160v-160H180v160Zm440 0h160v-160H620v160Z\"/>\n",
              "  </svg>\n",
              "    </button>\n",
              "\n",
              "  <style>\n",
              "    .colab-df-container {\n",
              "      display:flex;\n",
              "      gap: 12px;\n",
              "    }\n",
              "\n",
              "    .colab-df-convert {\n",
              "      background-color: #E8F0FE;\n",
              "      border: none;\n",
              "      border-radius: 50%;\n",
              "      cursor: pointer;\n",
              "      display: none;\n",
              "      fill: #1967D2;\n",
              "      height: 32px;\n",
              "      padding: 0 0 0 0;\n",
              "      width: 32px;\n",
              "    }\n",
              "\n",
              "    .colab-df-convert:hover {\n",
              "      background-color: #E2EBFA;\n",
              "      box-shadow: 0px 1px 2px rgba(60, 64, 67, 0.3), 0px 1px 3px 1px rgba(60, 64, 67, 0.15);\n",
              "      fill: #174EA6;\n",
              "    }\n",
              "\n",
              "    .colab-df-buttons div {\n",
              "      margin-bottom: 4px;\n",
              "    }\n",
              "\n",
              "    [theme=dark] .colab-df-convert {\n",
              "      background-color: #3B4455;\n",
              "      fill: #D2E3FC;\n",
              "    }\n",
              "\n",
              "    [theme=dark] .colab-df-convert:hover {\n",
              "      background-color: #434B5C;\n",
              "      box-shadow: 0px 1px 3px 1px rgba(0, 0, 0, 0.15);\n",
              "      filter: drop-shadow(0px 1px 2px rgba(0, 0, 0, 0.3));\n",
              "      fill: #FFFFFF;\n",
              "    }\n",
              "  </style>\n",
              "\n",
              "    <script>\n",
              "      const buttonEl =\n",
              "        document.querySelector('#df-c905d055-9508-47b2-a857-d2cb3a8fac97 button.colab-df-convert');\n",
              "      buttonEl.style.display =\n",
              "        google.colab.kernel.accessAllowed ? 'block' : 'none';\n",
              "\n",
              "      async function convertToInteractive(key) {\n",
              "        const element = document.querySelector('#df-c905d055-9508-47b2-a857-d2cb3a8fac97');\n",
              "        const dataTable =\n",
              "          await google.colab.kernel.invokeFunction('convertToInteractive',\n",
              "                                                    [key], {});\n",
              "        if (!dataTable) return;\n",
              "\n",
              "        const docLinkHtml = 'Like what you see? Visit the ' +\n",
              "          '<a target=\"_blank\" href=https://colab.research.google.com/notebooks/data_table.ipynb>data table notebook</a>'\n",
              "          + ' to learn more about interactive tables.';\n",
              "        element.innerHTML = '';\n",
              "        dataTable['output_type'] = 'display_data';\n",
              "        await google.colab.output.renderOutput(dataTable, element);\n",
              "        const docLink = document.createElement('div');\n",
              "        docLink.innerHTML = docLinkHtml;\n",
              "        element.appendChild(docLink);\n",
              "      }\n",
              "    </script>\n",
              "  </div>\n",
              "\n",
              "    </div>\n",
              "  </div>\n"
            ]
          },
          "metadata": {},
          "execution_count": 151
        }
      ],
      "source": [
        "investment.head()"
      ]
    },
    {
      "cell_type": "code",
      "execution_count": null,
      "metadata": {
        "colab": {
          "base_uri": "https://localhost:8080/",
          "height": 53
        },
        "id": "1ESKP1Y0cb0B",
        "outputId": "ceed911c-a9fc-4c05-8e4f-160ff68f0d81"
      },
      "outputs": [
        {
          "output_type": "execute_result",
          "data": {
            "text/plain": [
              "Empty DataFrame\n",
              "Columns: [Date, Organisation, Amount]\n",
              "Index: []"
            ],
            "text/html": [
              "\n",
              "  <div id=\"df-4c1d95a6-d89a-42bf-8e35-6122ddae9435\" class=\"colab-df-container\">\n",
              "    <div>\n",
              "<style scoped>\n",
              "    .dataframe tbody tr th:only-of-type {\n",
              "        vertical-align: middle;\n",
              "    }\n",
              "\n",
              "    .dataframe tbody tr th {\n",
              "        vertical-align: top;\n",
              "    }\n",
              "\n",
              "    .dataframe thead th {\n",
              "        text-align: right;\n",
              "    }\n",
              "</style>\n",
              "<table border=\"1\" class=\"dataframe\">\n",
              "  <thead>\n",
              "    <tr style=\"text-align: right;\">\n",
              "      <th></th>\n",
              "      <th>Date</th>\n",
              "      <th>Organisation</th>\n",
              "      <th>Amount</th>\n",
              "    </tr>\n",
              "  </thead>\n",
              "  <tbody>\n",
              "  </tbody>\n",
              "</table>\n",
              "</div>\n",
              "    <div class=\"colab-df-buttons\">\n",
              "\n",
              "  <div class=\"colab-df-container\">\n",
              "    <button class=\"colab-df-convert\" onclick=\"convertToInteractive('df-4c1d95a6-d89a-42bf-8e35-6122ddae9435')\"\n",
              "            title=\"Convert this dataframe to an interactive table.\"\n",
              "            style=\"display:none;\">\n",
              "\n",
              "  <svg xmlns=\"http://www.w3.org/2000/svg\" height=\"24px\" viewBox=\"0 -960 960 960\">\n",
              "    <path d=\"M120-120v-720h720v720H120Zm60-500h600v-160H180v160Zm220 220h160v-160H400v160Zm0 220h160v-160H400v160ZM180-400h160v-160H180v160Zm440 0h160v-160H620v160ZM180-180h160v-160H180v160Zm440 0h160v-160H620v160Z\"/>\n",
              "  </svg>\n",
              "    </button>\n",
              "\n",
              "  <style>\n",
              "    .colab-df-container {\n",
              "      display:flex;\n",
              "      gap: 12px;\n",
              "    }\n",
              "\n",
              "    .colab-df-convert {\n",
              "      background-color: #E8F0FE;\n",
              "      border: none;\n",
              "      border-radius: 50%;\n",
              "      cursor: pointer;\n",
              "      display: none;\n",
              "      fill: #1967D2;\n",
              "      height: 32px;\n",
              "      padding: 0 0 0 0;\n",
              "      width: 32px;\n",
              "    }\n",
              "\n",
              "    .colab-df-convert:hover {\n",
              "      background-color: #E2EBFA;\n",
              "      box-shadow: 0px 1px 2px rgba(60, 64, 67, 0.3), 0px 1px 3px 1px rgba(60, 64, 67, 0.15);\n",
              "      fill: #174EA6;\n",
              "    }\n",
              "\n",
              "    .colab-df-buttons div {\n",
              "      margin-bottom: 4px;\n",
              "    }\n",
              "\n",
              "    [theme=dark] .colab-df-convert {\n",
              "      background-color: #3B4455;\n",
              "      fill: #D2E3FC;\n",
              "    }\n",
              "\n",
              "    [theme=dark] .colab-df-convert:hover {\n",
              "      background-color: #434B5C;\n",
              "      box-shadow: 0px 1px 3px 1px rgba(0, 0, 0, 0.15);\n",
              "      filter: drop-shadow(0px 1px 2px rgba(0, 0, 0, 0.3));\n",
              "      fill: #FFFFFF;\n",
              "    }\n",
              "  </style>\n",
              "\n",
              "    <script>\n",
              "      const buttonEl =\n",
              "        document.querySelector('#df-4c1d95a6-d89a-42bf-8e35-6122ddae9435 button.colab-df-convert');\n",
              "      buttonEl.style.display =\n",
              "        google.colab.kernel.accessAllowed ? 'block' : 'none';\n",
              "\n",
              "      async function convertToInteractive(key) {\n",
              "        const element = document.querySelector('#df-4c1d95a6-d89a-42bf-8e35-6122ddae9435');\n",
              "        const dataTable =\n",
              "          await google.colab.kernel.invokeFunction('convertToInteractive',\n",
              "                                                    [key], {});\n",
              "        if (!dataTable) return;\n",
              "\n",
              "        const docLinkHtml = 'Like what you see? Visit the ' +\n",
              "          '<a target=\"_blank\" href=https://colab.research.google.com/notebooks/data_table.ipynb>data table notebook</a>'\n",
              "          + ' to learn more about interactive tables.';\n",
              "        element.innerHTML = '';\n",
              "        dataTable['output_type'] = 'display_data';\n",
              "        await google.colab.output.renderOutput(dataTable, element);\n",
              "        const docLink = document.createElement('div');\n",
              "        docLink.innerHTML = docLinkHtml;\n",
              "        element.appendChild(docLink);\n",
              "      }\n",
              "    </script>\n",
              "  </div>\n",
              "\n",
              "    </div>\n",
              "  </div>\n"
            ]
          },
          "metadata": {},
          "execution_count": 152
        }
      ],
      "source": [
        "shopping.head()"
      ]
    },
    {
      "cell_type": "code",
      "execution_count": null,
      "metadata": {
        "colab": {
          "base_uri": "https://localhost:8080/",
          "height": 53
        },
        "id": "j4BHC3nQcb0C",
        "outputId": "17afc480-bdca-4dff-ab7b-4b7e3f9db8f9"
      },
      "outputs": [
        {
          "output_type": "execute_result",
          "data": {
            "text/plain": [
              "Empty DataFrame\n",
              "Columns: [Date, Organisation, Amount]\n",
              "Index: []"
            ],
            "text/html": [
              "\n",
              "  <div id=\"df-cbf49c13-7103-44b3-9072-f8c2e84703f4\" class=\"colab-df-container\">\n",
              "    <div>\n",
              "<style scoped>\n",
              "    .dataframe tbody tr th:only-of-type {\n",
              "        vertical-align: middle;\n",
              "    }\n",
              "\n",
              "    .dataframe tbody tr th {\n",
              "        vertical-align: top;\n",
              "    }\n",
              "\n",
              "    .dataframe thead th {\n",
              "        text-align: right;\n",
              "    }\n",
              "</style>\n",
              "<table border=\"1\" class=\"dataframe\">\n",
              "  <thead>\n",
              "    <tr style=\"text-align: right;\">\n",
              "      <th></th>\n",
              "      <th>Date</th>\n",
              "      <th>Organisation</th>\n",
              "      <th>Amount</th>\n",
              "    </tr>\n",
              "  </thead>\n",
              "  <tbody>\n",
              "  </tbody>\n",
              "</table>\n",
              "</div>\n",
              "    <div class=\"colab-df-buttons\">\n",
              "\n",
              "  <div class=\"colab-df-container\">\n",
              "    <button class=\"colab-df-convert\" onclick=\"convertToInteractive('df-cbf49c13-7103-44b3-9072-f8c2e84703f4')\"\n",
              "            title=\"Convert this dataframe to an interactive table.\"\n",
              "            style=\"display:none;\">\n",
              "\n",
              "  <svg xmlns=\"http://www.w3.org/2000/svg\" height=\"24px\" viewBox=\"0 -960 960 960\">\n",
              "    <path d=\"M120-120v-720h720v720H120Zm60-500h600v-160H180v160Zm220 220h160v-160H400v160Zm0 220h160v-160H400v160ZM180-400h160v-160H180v160Zm440 0h160v-160H620v160ZM180-180h160v-160H180v160Zm440 0h160v-160H620v160Z\"/>\n",
              "  </svg>\n",
              "    </button>\n",
              "\n",
              "  <style>\n",
              "    .colab-df-container {\n",
              "      display:flex;\n",
              "      gap: 12px;\n",
              "    }\n",
              "\n",
              "    .colab-df-convert {\n",
              "      background-color: #E8F0FE;\n",
              "      border: none;\n",
              "      border-radius: 50%;\n",
              "      cursor: pointer;\n",
              "      display: none;\n",
              "      fill: #1967D2;\n",
              "      height: 32px;\n",
              "      padding: 0 0 0 0;\n",
              "      width: 32px;\n",
              "    }\n",
              "\n",
              "    .colab-df-convert:hover {\n",
              "      background-color: #E2EBFA;\n",
              "      box-shadow: 0px 1px 2px rgba(60, 64, 67, 0.3), 0px 1px 3px 1px rgba(60, 64, 67, 0.15);\n",
              "      fill: #174EA6;\n",
              "    }\n",
              "\n",
              "    .colab-df-buttons div {\n",
              "      margin-bottom: 4px;\n",
              "    }\n",
              "\n",
              "    [theme=dark] .colab-df-convert {\n",
              "      background-color: #3B4455;\n",
              "      fill: #D2E3FC;\n",
              "    }\n",
              "\n",
              "    [theme=dark] .colab-df-convert:hover {\n",
              "      background-color: #434B5C;\n",
              "      box-shadow: 0px 1px 3px 1px rgba(0, 0, 0, 0.15);\n",
              "      filter: drop-shadow(0px 1px 2px rgba(0, 0, 0, 0.3));\n",
              "      fill: #FFFFFF;\n",
              "    }\n",
              "  </style>\n",
              "\n",
              "    <script>\n",
              "      const buttonEl =\n",
              "        document.querySelector('#df-cbf49c13-7103-44b3-9072-f8c2e84703f4 button.colab-df-convert');\n",
              "      buttonEl.style.display =\n",
              "        google.colab.kernel.accessAllowed ? 'block' : 'none';\n",
              "\n",
              "      async function convertToInteractive(key) {\n",
              "        const element = document.querySelector('#df-cbf49c13-7103-44b3-9072-f8c2e84703f4');\n",
              "        const dataTable =\n",
              "          await google.colab.kernel.invokeFunction('convertToInteractive',\n",
              "                                                    [key], {});\n",
              "        if (!dataTable) return;\n",
              "\n",
              "        const docLinkHtml = 'Like what you see? Visit the ' +\n",
              "          '<a target=\"_blank\" href=https://colab.research.google.com/notebooks/data_table.ipynb>data table notebook</a>'\n",
              "          + ' to learn more about interactive tables.';\n",
              "        element.innerHTML = '';\n",
              "        dataTable['output_type'] = 'display_data';\n",
              "        await google.colab.output.renderOutput(dataTable, element);\n",
              "        const docLink = document.createElement('div');\n",
              "        docLink.innerHTML = docLinkHtml;\n",
              "        element.appendChild(docLink);\n",
              "      }\n",
              "    </script>\n",
              "  </div>\n",
              "\n",
              "    </div>\n",
              "  </div>\n"
            ]
          },
          "metadata": {},
          "execution_count": 153
        }
      ],
      "source": [
        "grocery.head()"
      ]
    },
    {
      "cell_type": "code",
      "execution_count": null,
      "metadata": {
        "colab": {
          "base_uri": "https://localhost:8080/",
          "height": 53
        },
        "id": "3mOKz3UFcb0C",
        "outputId": "d6d122f8-9c7c-496f-f4fd-50e4b097efae"
      },
      "outputs": [
        {
          "output_type": "execute_result",
          "data": {
            "text/plain": [
              "Empty DataFrame\n",
              "Columns: [Date, Organisation, Amount]\n",
              "Index: []"
            ],
            "text/html": [
              "\n",
              "  <div id=\"df-45309f28-e470-427e-89f8-3a1db0363726\" class=\"colab-df-container\">\n",
              "    <div>\n",
              "<style scoped>\n",
              "    .dataframe tbody tr th:only-of-type {\n",
              "        vertical-align: middle;\n",
              "    }\n",
              "\n",
              "    .dataframe tbody tr th {\n",
              "        vertical-align: top;\n",
              "    }\n",
              "\n",
              "    .dataframe thead th {\n",
              "        text-align: right;\n",
              "    }\n",
              "</style>\n",
              "<table border=\"1\" class=\"dataframe\">\n",
              "  <thead>\n",
              "    <tr style=\"text-align: right;\">\n",
              "      <th></th>\n",
              "      <th>Date</th>\n",
              "      <th>Organisation</th>\n",
              "      <th>Amount</th>\n",
              "    </tr>\n",
              "  </thead>\n",
              "  <tbody>\n",
              "  </tbody>\n",
              "</table>\n",
              "</div>\n",
              "    <div class=\"colab-df-buttons\">\n",
              "\n",
              "  <div class=\"colab-df-container\">\n",
              "    <button class=\"colab-df-convert\" onclick=\"convertToInteractive('df-45309f28-e470-427e-89f8-3a1db0363726')\"\n",
              "            title=\"Convert this dataframe to an interactive table.\"\n",
              "            style=\"display:none;\">\n",
              "\n",
              "  <svg xmlns=\"http://www.w3.org/2000/svg\" height=\"24px\" viewBox=\"0 -960 960 960\">\n",
              "    <path d=\"M120-120v-720h720v720H120Zm60-500h600v-160H180v160Zm220 220h160v-160H400v160Zm0 220h160v-160H400v160ZM180-400h160v-160H180v160Zm440 0h160v-160H620v160ZM180-180h160v-160H180v160Zm440 0h160v-160H620v160Z\"/>\n",
              "  </svg>\n",
              "    </button>\n",
              "\n",
              "  <style>\n",
              "    .colab-df-container {\n",
              "      display:flex;\n",
              "      gap: 12px;\n",
              "    }\n",
              "\n",
              "    .colab-df-convert {\n",
              "      background-color: #E8F0FE;\n",
              "      border: none;\n",
              "      border-radius: 50%;\n",
              "      cursor: pointer;\n",
              "      display: none;\n",
              "      fill: #1967D2;\n",
              "      height: 32px;\n",
              "      padding: 0 0 0 0;\n",
              "      width: 32px;\n",
              "    }\n",
              "\n",
              "    .colab-df-convert:hover {\n",
              "      background-color: #E2EBFA;\n",
              "      box-shadow: 0px 1px 2px rgba(60, 64, 67, 0.3), 0px 1px 3px 1px rgba(60, 64, 67, 0.15);\n",
              "      fill: #174EA6;\n",
              "    }\n",
              "\n",
              "    .colab-df-buttons div {\n",
              "      margin-bottom: 4px;\n",
              "    }\n",
              "\n",
              "    [theme=dark] .colab-df-convert {\n",
              "      background-color: #3B4455;\n",
              "      fill: #D2E3FC;\n",
              "    }\n",
              "\n",
              "    [theme=dark] .colab-df-convert:hover {\n",
              "      background-color: #434B5C;\n",
              "      box-shadow: 0px 1px 3px 1px rgba(0, 0, 0, 0.15);\n",
              "      filter: drop-shadow(0px 1px 2px rgba(0, 0, 0, 0.3));\n",
              "      fill: #FFFFFF;\n",
              "    }\n",
              "  </style>\n",
              "\n",
              "    <script>\n",
              "      const buttonEl =\n",
              "        document.querySelector('#df-45309f28-e470-427e-89f8-3a1db0363726 button.colab-df-convert');\n",
              "      buttonEl.style.display =\n",
              "        google.colab.kernel.accessAllowed ? 'block' : 'none';\n",
              "\n",
              "      async function convertToInteractive(key) {\n",
              "        const element = document.querySelector('#df-45309f28-e470-427e-89f8-3a1db0363726');\n",
              "        const dataTable =\n",
              "          await google.colab.kernel.invokeFunction('convertToInteractive',\n",
              "                                                    [key], {});\n",
              "        if (!dataTable) return;\n",
              "\n",
              "        const docLinkHtml = 'Like what you see? Visit the ' +\n",
              "          '<a target=\"_blank\" href=https://colab.research.google.com/notebooks/data_table.ipynb>data table notebook</a>'\n",
              "          + ' to learn more about interactive tables.';\n",
              "        element.innerHTML = '';\n",
              "        dataTable['output_type'] = 'display_data';\n",
              "        await google.colab.output.renderOutput(dataTable, element);\n",
              "        const docLink = document.createElement('div');\n",
              "        docLink.innerHTML = docLinkHtml;\n",
              "        element.appendChild(docLink);\n",
              "      }\n",
              "    </script>\n",
              "  </div>\n",
              "\n",
              "    </div>\n",
              "  </div>\n"
            ]
          },
          "metadata": {},
          "execution_count": 154
        }
      ],
      "source": [
        "transport.head()"
      ]
    },
    {
      "cell_type": "code",
      "execution_count": null,
      "metadata": {
        "colab": {
          "base_uri": "https://localhost:8080/",
          "height": 53
        },
        "id": "Oy-smMercb0D",
        "outputId": "b595bfa5-60a5-417b-ce9b-df6455a7e309"
      },
      "outputs": [
        {
          "output_type": "execute_result",
          "data": {
            "text/plain": [
              "Empty DataFrame\n",
              "Columns: [Date, Organisation, Amount]\n",
              "Index: []"
            ],
            "text/html": [
              "\n",
              "  <div id=\"df-676f54da-30b8-417f-9df6-9a5b4aad570f\" class=\"colab-df-container\">\n",
              "    <div>\n",
              "<style scoped>\n",
              "    .dataframe tbody tr th:only-of-type {\n",
              "        vertical-align: middle;\n",
              "    }\n",
              "\n",
              "    .dataframe tbody tr th {\n",
              "        vertical-align: top;\n",
              "    }\n",
              "\n",
              "    .dataframe thead th {\n",
              "        text-align: right;\n",
              "    }\n",
              "</style>\n",
              "<table border=\"1\" class=\"dataframe\">\n",
              "  <thead>\n",
              "    <tr style=\"text-align: right;\">\n",
              "      <th></th>\n",
              "      <th>Date</th>\n",
              "      <th>Organisation</th>\n",
              "      <th>Amount</th>\n",
              "    </tr>\n",
              "  </thead>\n",
              "  <tbody>\n",
              "  </tbody>\n",
              "</table>\n",
              "</div>\n",
              "    <div class=\"colab-df-buttons\">\n",
              "\n",
              "  <div class=\"colab-df-container\">\n",
              "    <button class=\"colab-df-convert\" onclick=\"convertToInteractive('df-676f54da-30b8-417f-9df6-9a5b4aad570f')\"\n",
              "            title=\"Convert this dataframe to an interactive table.\"\n",
              "            style=\"display:none;\">\n",
              "\n",
              "  <svg xmlns=\"http://www.w3.org/2000/svg\" height=\"24px\" viewBox=\"0 -960 960 960\">\n",
              "    <path d=\"M120-120v-720h720v720H120Zm60-500h600v-160H180v160Zm220 220h160v-160H400v160Zm0 220h160v-160H400v160ZM180-400h160v-160H180v160Zm440 0h160v-160H620v160ZM180-180h160v-160H180v160Zm440 0h160v-160H620v160Z\"/>\n",
              "  </svg>\n",
              "    </button>\n",
              "\n",
              "  <style>\n",
              "    .colab-df-container {\n",
              "      display:flex;\n",
              "      gap: 12px;\n",
              "    }\n",
              "\n",
              "    .colab-df-convert {\n",
              "      background-color: #E8F0FE;\n",
              "      border: none;\n",
              "      border-radius: 50%;\n",
              "      cursor: pointer;\n",
              "      display: none;\n",
              "      fill: #1967D2;\n",
              "      height: 32px;\n",
              "      padding: 0 0 0 0;\n",
              "      width: 32px;\n",
              "    }\n",
              "\n",
              "    .colab-df-convert:hover {\n",
              "      background-color: #E2EBFA;\n",
              "      box-shadow: 0px 1px 2px rgba(60, 64, 67, 0.3), 0px 1px 3px 1px rgba(60, 64, 67, 0.15);\n",
              "      fill: #174EA6;\n",
              "    }\n",
              "\n",
              "    .colab-df-buttons div {\n",
              "      margin-bottom: 4px;\n",
              "    }\n",
              "\n",
              "    [theme=dark] .colab-df-convert {\n",
              "      background-color: #3B4455;\n",
              "      fill: #D2E3FC;\n",
              "    }\n",
              "\n",
              "    [theme=dark] .colab-df-convert:hover {\n",
              "      background-color: #434B5C;\n",
              "      box-shadow: 0px 1px 3px 1px rgba(0, 0, 0, 0.15);\n",
              "      filter: drop-shadow(0px 1px 2px rgba(0, 0, 0, 0.3));\n",
              "      fill: #FFFFFF;\n",
              "    }\n",
              "  </style>\n",
              "\n",
              "    <script>\n",
              "      const buttonEl =\n",
              "        document.querySelector('#df-676f54da-30b8-417f-9df6-9a5b4aad570f button.colab-df-convert');\n",
              "      buttonEl.style.display =\n",
              "        google.colab.kernel.accessAllowed ? 'block' : 'none';\n",
              "\n",
              "      async function convertToInteractive(key) {\n",
              "        const element = document.querySelector('#df-676f54da-30b8-417f-9df6-9a5b4aad570f');\n",
              "        const dataTable =\n",
              "          await google.colab.kernel.invokeFunction('convertToInteractive',\n",
              "                                                    [key], {});\n",
              "        if (!dataTable) return;\n",
              "\n",
              "        const docLinkHtml = 'Like what you see? Visit the ' +\n",
              "          '<a target=\"_blank\" href=https://colab.research.google.com/notebooks/data_table.ipynb>data table notebook</a>'\n",
              "          + ' to learn more about interactive tables.';\n",
              "        element.innerHTML = '';\n",
              "        dataTable['output_type'] = 'display_data';\n",
              "        await google.colab.output.renderOutput(dataTable, element);\n",
              "        const docLink = document.createElement('div');\n",
              "        docLink.innerHTML = docLinkHtml;\n",
              "        element.appendChild(docLink);\n",
              "      }\n",
              "    </script>\n",
              "  </div>\n",
              "\n",
              "    </div>\n",
              "  </div>\n"
            ]
          },
          "metadata": {},
          "execution_count": 155
        }
      ],
      "source": [
        "other.head()"
      ]
    },
    {
      "cell_type": "code",
      "execution_count": null,
      "metadata": {
        "colab": {
          "base_uri": "https://localhost:8080/"
        },
        "id": "PE3S0yxYcb0D",
        "outputId": "d5a513a3-2361-4021-b913-7e34268394ab"
      },
      "outputs": [
        {
          "output_type": "execute_result",
          "data": {
            "text/plain": [
              "(1, 3)"
            ]
          },
          "metadata": {},
          "execution_count": 156
        }
      ],
      "source": [
        "#lets do some statistics\n",
        "entertainment.shape\n",
        "#3->columns 11->rows\n",
        "#similarliy do for others"
      ]
    },
    {
      "cell_type": "code",
      "execution_count": null,
      "metadata": {
        "colab": {
          "base_uri": "https://localhost:8080/",
          "height": 300
        },
        "id": "NIDC7o7Pcb0D",
        "outputId": "bb36dae5-5497-472a-e279-c9e0a34eba2e"
      },
      "outputs": [
        {
          "output_type": "execute_result",
          "data": {
            "text/plain": [
              "       Amount\n",
              "count    1.00\n",
              "mean    12.59\n",
              "std       NaN\n",
              "min     12.59\n",
              "25%     12.59\n",
              "50%     12.59\n",
              "75%     12.59\n",
              "max     12.59"
            ],
            "text/html": [
              "\n",
              "  <div id=\"df-097b71e9-8f3d-43cc-bce9-dd2cd63b208a\" class=\"colab-df-container\">\n",
              "    <div>\n",
              "<style scoped>\n",
              "    .dataframe tbody tr th:only-of-type {\n",
              "        vertical-align: middle;\n",
              "    }\n",
              "\n",
              "    .dataframe tbody tr th {\n",
              "        vertical-align: top;\n",
              "    }\n",
              "\n",
              "    .dataframe thead th {\n",
              "        text-align: right;\n",
              "    }\n",
              "</style>\n",
              "<table border=\"1\" class=\"dataframe\">\n",
              "  <thead>\n",
              "    <tr style=\"text-align: right;\">\n",
              "      <th></th>\n",
              "      <th>Amount</th>\n",
              "    </tr>\n",
              "  </thead>\n",
              "  <tbody>\n",
              "    <tr>\n",
              "      <th>count</th>\n",
              "      <td>1.00</td>\n",
              "    </tr>\n",
              "    <tr>\n",
              "      <th>mean</th>\n",
              "      <td>12.59</td>\n",
              "    </tr>\n",
              "    <tr>\n",
              "      <th>std</th>\n",
              "      <td>NaN</td>\n",
              "    </tr>\n",
              "    <tr>\n",
              "      <th>min</th>\n",
              "      <td>12.59</td>\n",
              "    </tr>\n",
              "    <tr>\n",
              "      <th>25%</th>\n",
              "      <td>12.59</td>\n",
              "    </tr>\n",
              "    <tr>\n",
              "      <th>50%</th>\n",
              "      <td>12.59</td>\n",
              "    </tr>\n",
              "    <tr>\n",
              "      <th>75%</th>\n",
              "      <td>12.59</td>\n",
              "    </tr>\n",
              "    <tr>\n",
              "      <th>max</th>\n",
              "      <td>12.59</td>\n",
              "    </tr>\n",
              "  </tbody>\n",
              "</table>\n",
              "</div>\n",
              "    <div class=\"colab-df-buttons\">\n",
              "\n",
              "  <div class=\"colab-df-container\">\n",
              "    <button class=\"colab-df-convert\" onclick=\"convertToInteractive('df-097b71e9-8f3d-43cc-bce9-dd2cd63b208a')\"\n",
              "            title=\"Convert this dataframe to an interactive table.\"\n",
              "            style=\"display:none;\">\n",
              "\n",
              "  <svg xmlns=\"http://www.w3.org/2000/svg\" height=\"24px\" viewBox=\"0 -960 960 960\">\n",
              "    <path d=\"M120-120v-720h720v720H120Zm60-500h600v-160H180v160Zm220 220h160v-160H400v160Zm0 220h160v-160H400v160ZM180-400h160v-160H180v160Zm440 0h160v-160H620v160ZM180-180h160v-160H180v160Zm440 0h160v-160H620v160Z\"/>\n",
              "  </svg>\n",
              "    </button>\n",
              "\n",
              "  <style>\n",
              "    .colab-df-container {\n",
              "      display:flex;\n",
              "      gap: 12px;\n",
              "    }\n",
              "\n",
              "    .colab-df-convert {\n",
              "      background-color: #E8F0FE;\n",
              "      border: none;\n",
              "      border-radius: 50%;\n",
              "      cursor: pointer;\n",
              "      display: none;\n",
              "      fill: #1967D2;\n",
              "      height: 32px;\n",
              "      padding: 0 0 0 0;\n",
              "      width: 32px;\n",
              "    }\n",
              "\n",
              "    .colab-df-convert:hover {\n",
              "      background-color: #E2EBFA;\n",
              "      box-shadow: 0px 1px 2px rgba(60, 64, 67, 0.3), 0px 1px 3px 1px rgba(60, 64, 67, 0.15);\n",
              "      fill: #174EA6;\n",
              "    }\n",
              "\n",
              "    .colab-df-buttons div {\n",
              "      margin-bottom: 4px;\n",
              "    }\n",
              "\n",
              "    [theme=dark] .colab-df-convert {\n",
              "      background-color: #3B4455;\n",
              "      fill: #D2E3FC;\n",
              "    }\n",
              "\n",
              "    [theme=dark] .colab-df-convert:hover {\n",
              "      background-color: #434B5C;\n",
              "      box-shadow: 0px 1px 3px 1px rgba(0, 0, 0, 0.15);\n",
              "      filter: drop-shadow(0px 1px 2px rgba(0, 0, 0, 0.3));\n",
              "      fill: #FFFFFF;\n",
              "    }\n",
              "  </style>\n",
              "\n",
              "    <script>\n",
              "      const buttonEl =\n",
              "        document.querySelector('#df-097b71e9-8f3d-43cc-bce9-dd2cd63b208a button.colab-df-convert');\n",
              "      buttonEl.style.display =\n",
              "        google.colab.kernel.accessAllowed ? 'block' : 'none';\n",
              "\n",
              "      async function convertToInteractive(key) {\n",
              "        const element = document.querySelector('#df-097b71e9-8f3d-43cc-bce9-dd2cd63b208a');\n",
              "        const dataTable =\n",
              "          await google.colab.kernel.invokeFunction('convertToInteractive',\n",
              "                                                    [key], {});\n",
              "        if (!dataTable) return;\n",
              "\n",
              "        const docLinkHtml = 'Like what you see? Visit the ' +\n",
              "          '<a target=\"_blank\" href=https://colab.research.google.com/notebooks/data_table.ipynb>data table notebook</a>'\n",
              "          + ' to learn more about interactive tables.';\n",
              "        element.innerHTML = '';\n",
              "        dataTable['output_type'] = 'display_data';\n",
              "        await google.colab.output.renderOutput(dataTable, element);\n",
              "        const docLink = document.createElement('div');\n",
              "        docLink.innerHTML = docLinkHtml;\n",
              "        element.appendChild(docLink);\n",
              "      }\n",
              "    </script>\n",
              "  </div>\n",
              "\n",
              "\n",
              "<div id=\"df-e677eade-249d-47fd-83e1-2e0938756fe9\">\n",
              "  <button class=\"colab-df-quickchart\" onclick=\"quickchart('df-e677eade-249d-47fd-83e1-2e0938756fe9')\"\n",
              "            title=\"Suggest charts\"\n",
              "            style=\"display:none;\">\n",
              "\n",
              "<svg xmlns=\"http://www.w3.org/2000/svg\" height=\"24px\"viewBox=\"0 0 24 24\"\n",
              "     width=\"24px\">\n",
              "    <g>\n",
              "        <path d=\"M19 3H5c-1.1 0-2 .9-2 2v14c0 1.1.9 2 2 2h14c1.1 0 2-.9 2-2V5c0-1.1-.9-2-2-2zM9 17H7v-7h2v7zm4 0h-2V7h2v10zm4 0h-2v-4h2v4z\"/>\n",
              "    </g>\n",
              "</svg>\n",
              "  </button>\n",
              "\n",
              "<style>\n",
              "  .colab-df-quickchart {\n",
              "      --bg-color: #E8F0FE;\n",
              "      --fill-color: #1967D2;\n",
              "      --hover-bg-color: #E2EBFA;\n",
              "      --hover-fill-color: #174EA6;\n",
              "      --disabled-fill-color: #AAA;\n",
              "      --disabled-bg-color: #DDD;\n",
              "  }\n",
              "\n",
              "  [theme=dark] .colab-df-quickchart {\n",
              "      --bg-color: #3B4455;\n",
              "      --fill-color: #D2E3FC;\n",
              "      --hover-bg-color: #434B5C;\n",
              "      --hover-fill-color: #FFFFFF;\n",
              "      --disabled-bg-color: #3B4455;\n",
              "      --disabled-fill-color: #666;\n",
              "  }\n",
              "\n",
              "  .colab-df-quickchart {\n",
              "    background-color: var(--bg-color);\n",
              "    border: none;\n",
              "    border-radius: 50%;\n",
              "    cursor: pointer;\n",
              "    display: none;\n",
              "    fill: var(--fill-color);\n",
              "    height: 32px;\n",
              "    padding: 0;\n",
              "    width: 32px;\n",
              "  }\n",
              "\n",
              "  .colab-df-quickchart:hover {\n",
              "    background-color: var(--hover-bg-color);\n",
              "    box-shadow: 0 1px 2px rgba(60, 64, 67, 0.3), 0 1px 3px 1px rgba(60, 64, 67, 0.15);\n",
              "    fill: var(--button-hover-fill-color);\n",
              "  }\n",
              "\n",
              "  .colab-df-quickchart-complete:disabled,\n",
              "  .colab-df-quickchart-complete:disabled:hover {\n",
              "    background-color: var(--disabled-bg-color);\n",
              "    fill: var(--disabled-fill-color);\n",
              "    box-shadow: none;\n",
              "  }\n",
              "\n",
              "  .colab-df-spinner {\n",
              "    border: 2px solid var(--fill-color);\n",
              "    border-color: transparent;\n",
              "    border-bottom-color: var(--fill-color);\n",
              "    animation:\n",
              "      spin 1s steps(1) infinite;\n",
              "  }\n",
              "\n",
              "  @keyframes spin {\n",
              "    0% {\n",
              "      border-color: transparent;\n",
              "      border-bottom-color: var(--fill-color);\n",
              "      border-left-color: var(--fill-color);\n",
              "    }\n",
              "    20% {\n",
              "      border-color: transparent;\n",
              "      border-left-color: var(--fill-color);\n",
              "      border-top-color: var(--fill-color);\n",
              "    }\n",
              "    30% {\n",
              "      border-color: transparent;\n",
              "      border-left-color: var(--fill-color);\n",
              "      border-top-color: var(--fill-color);\n",
              "      border-right-color: var(--fill-color);\n",
              "    }\n",
              "    40% {\n",
              "      border-color: transparent;\n",
              "      border-right-color: var(--fill-color);\n",
              "      border-top-color: var(--fill-color);\n",
              "    }\n",
              "    60% {\n",
              "      border-color: transparent;\n",
              "      border-right-color: var(--fill-color);\n",
              "    }\n",
              "    80% {\n",
              "      border-color: transparent;\n",
              "      border-right-color: var(--fill-color);\n",
              "      border-bottom-color: var(--fill-color);\n",
              "    }\n",
              "    90% {\n",
              "      border-color: transparent;\n",
              "      border-bottom-color: var(--fill-color);\n",
              "    }\n",
              "  }\n",
              "</style>\n",
              "\n",
              "  <script>\n",
              "    async function quickchart(key) {\n",
              "      const quickchartButtonEl =\n",
              "        document.querySelector('#' + key + ' button');\n",
              "      quickchartButtonEl.disabled = true;  // To prevent multiple clicks.\n",
              "      quickchartButtonEl.classList.add('colab-df-spinner');\n",
              "      try {\n",
              "        const charts = await google.colab.kernel.invokeFunction(\n",
              "            'suggestCharts', [key], {});\n",
              "      } catch (error) {\n",
              "        console.error('Error during call to suggestCharts:', error);\n",
              "      }\n",
              "      quickchartButtonEl.classList.remove('colab-df-spinner');\n",
              "      quickchartButtonEl.classList.add('colab-df-quickchart-complete');\n",
              "    }\n",
              "    (() => {\n",
              "      let quickchartButtonEl =\n",
              "        document.querySelector('#df-e677eade-249d-47fd-83e1-2e0938756fe9 button');\n",
              "      quickchartButtonEl.style.display =\n",
              "        google.colab.kernel.accessAllowed ? 'block' : 'none';\n",
              "    })();\n",
              "  </script>\n",
              "</div>\n",
              "    </div>\n",
              "  </div>\n"
            ]
          },
          "metadata": {},
          "execution_count": 157
        }
      ],
      "source": [
        "#getting statistical info\n",
        "entertainment.describe()"
      ]
    },
    {
      "cell_type": "code",
      "execution_count": null,
      "metadata": {
        "colab": {
          "base_uri": "https://localhost:8080/",
          "height": 81
        },
        "id": "LkJX-V6xcb0E",
        "outputId": "80a61f6f-bc0b-40d6-c729-0706de654900"
      },
      "outputs": [
        {
          "output_type": "execute_result",
          "data": {
            "text/plain": [
              "        Date       Organisation  Amount\n",
              "0 2013-07-04  ying thai kitchen   12.59"
            ],
            "text/html": [
              "\n",
              "  <div id=\"df-252ed4bf-254e-4e9d-8670-154a30cab19b\" class=\"colab-df-container\">\n",
              "    <div>\n",
              "<style scoped>\n",
              "    .dataframe tbody tr th:only-of-type {\n",
              "        vertical-align: middle;\n",
              "    }\n",
              "\n",
              "    .dataframe tbody tr th {\n",
              "        vertical-align: top;\n",
              "    }\n",
              "\n",
              "    .dataframe thead th {\n",
              "        text-align: right;\n",
              "    }\n",
              "</style>\n",
              "<table border=\"1\" class=\"dataframe\">\n",
              "  <thead>\n",
              "    <tr style=\"text-align: right;\">\n",
              "      <th></th>\n",
              "      <th>Date</th>\n",
              "      <th>Organisation</th>\n",
              "      <th>Amount</th>\n",
              "    </tr>\n",
              "  </thead>\n",
              "  <tbody>\n",
              "    <tr>\n",
              "      <th>0</th>\n",
              "      <td>2013-07-04</td>\n",
              "      <td>ying thai kitchen</td>\n",
              "      <td>12.59</td>\n",
              "    </tr>\n",
              "  </tbody>\n",
              "</table>\n",
              "</div>\n",
              "    <div class=\"colab-df-buttons\">\n",
              "\n",
              "  <div class=\"colab-df-container\">\n",
              "    <button class=\"colab-df-convert\" onclick=\"convertToInteractive('df-252ed4bf-254e-4e9d-8670-154a30cab19b')\"\n",
              "            title=\"Convert this dataframe to an interactive table.\"\n",
              "            style=\"display:none;\">\n",
              "\n",
              "  <svg xmlns=\"http://www.w3.org/2000/svg\" height=\"24px\" viewBox=\"0 -960 960 960\">\n",
              "    <path d=\"M120-120v-720h720v720H120Zm60-500h600v-160H180v160Zm220 220h160v-160H400v160Zm0 220h160v-160H400v160ZM180-400h160v-160H180v160Zm440 0h160v-160H620v160ZM180-180h160v-160H180v160Zm440 0h160v-160H620v160Z\"/>\n",
              "  </svg>\n",
              "    </button>\n",
              "\n",
              "  <style>\n",
              "    .colab-df-container {\n",
              "      display:flex;\n",
              "      gap: 12px;\n",
              "    }\n",
              "\n",
              "    .colab-df-convert {\n",
              "      background-color: #E8F0FE;\n",
              "      border: none;\n",
              "      border-radius: 50%;\n",
              "      cursor: pointer;\n",
              "      display: none;\n",
              "      fill: #1967D2;\n",
              "      height: 32px;\n",
              "      padding: 0 0 0 0;\n",
              "      width: 32px;\n",
              "    }\n",
              "\n",
              "    .colab-df-convert:hover {\n",
              "      background-color: #E2EBFA;\n",
              "      box-shadow: 0px 1px 2px rgba(60, 64, 67, 0.3), 0px 1px 3px 1px rgba(60, 64, 67, 0.15);\n",
              "      fill: #174EA6;\n",
              "    }\n",
              "\n",
              "    .colab-df-buttons div {\n",
              "      margin-bottom: 4px;\n",
              "    }\n",
              "\n",
              "    [theme=dark] .colab-df-convert {\n",
              "      background-color: #3B4455;\n",
              "      fill: #D2E3FC;\n",
              "    }\n",
              "\n",
              "    [theme=dark] .colab-df-convert:hover {\n",
              "      background-color: #434B5C;\n",
              "      box-shadow: 0px 1px 3px 1px rgba(0, 0, 0, 0.15);\n",
              "      filter: drop-shadow(0px 1px 2px rgba(0, 0, 0, 0.3));\n",
              "      fill: #FFFFFF;\n",
              "    }\n",
              "  </style>\n",
              "\n",
              "    <script>\n",
              "      const buttonEl =\n",
              "        document.querySelector('#df-252ed4bf-254e-4e9d-8670-154a30cab19b button.colab-df-convert');\n",
              "      buttonEl.style.display =\n",
              "        google.colab.kernel.accessAllowed ? 'block' : 'none';\n",
              "\n",
              "      async function convertToInteractive(key) {\n",
              "        const element = document.querySelector('#df-252ed4bf-254e-4e9d-8670-154a30cab19b');\n",
              "        const dataTable =\n",
              "          await google.colab.kernel.invokeFunction('convertToInteractive',\n",
              "                                                    [key], {});\n",
              "        if (!dataTable) return;\n",
              "\n",
              "        const docLinkHtml = 'Like what you see? Visit the ' +\n",
              "          '<a target=\"_blank\" href=https://colab.research.google.com/notebooks/data_table.ipynb>data table notebook</a>'\n",
              "          + ' to learn more about interactive tables.';\n",
              "        element.innerHTML = '';\n",
              "        dataTable['output_type'] = 'display_data';\n",
              "        await google.colab.output.renderOutput(dataTable, element);\n",
              "        const docLink = document.createElement('div');\n",
              "        docLink.innerHTML = docLinkHtml;\n",
              "        element.appendChild(docLink);\n",
              "      }\n",
              "    </script>\n",
              "  </div>\n",
              "\n",
              "    </div>\n",
              "  </div>\n"
            ]
          },
          "metadata": {},
          "execution_count": 159
        }
      ],
      "source": [
        "#oh my 7346 is too much,lets see where have i used this amount\n",
        "entertainment[entertainment['Amount']==entertainment['Amount'].max()]\n",
        "#dubai trip was awesome!!!:)\n"
      ]
    },
    {
      "cell_type": "code",
      "execution_count": null,
      "metadata": {
        "colab": {
          "base_uri": "https://localhost:8080/"
        },
        "id": "vL8h4g2Icb0E",
        "outputId": "b297b49a-d7ca-4eab-8ef0-902d3d612a84"
      },
      "outputs": [
        {
          "output_type": "execute_result",
          "data": {
            "text/plain": [
              "Date            datetime64[ns]\n",
              "Organisation            object\n",
              "Amount                 float64\n",
              "dtype: object"
            ]
          },
          "metadata": {},
          "execution_count": 160
        }
      ],
      "source": [
        "#lets check the data type of the data set -entertainment\n",
        "entertainment.dtypes\n",
        "#everything looks fine\n"
      ]
    },
    {
      "cell_type": "code",
      "execution_count": null,
      "metadata": {
        "colab": {
          "base_uri": "https://localhost:8080/"
        },
        "id": "FrlWSqLDcb0F",
        "outputId": "fa60295f-0d43-4bb2-9da0-e4dc5635cc58"
      },
      "outputs": [
        {
          "output_type": "execute_result",
          "data": {
            "text/plain": [
              "Date            False\n",
              "Organisation    False\n",
              "Amount          False\n",
              "dtype: bool"
            ]
          },
          "metadata": {},
          "execution_count": 161
        }
      ],
      "source": [
        "#now lets check for missing values\n",
        "entertainment.isnull().any()\n",
        "#woo hooo there are no missing values\n",
        "#if True was displayed then we would have to use some pandas function to get rid of that\n",
        "#eg df.dropna() or .fillna() etc.."
      ]
    },
    {
      "cell_type": "code",
      "execution_count": null,
      "metadata": {
        "colab": {
          "base_uri": "https://localhost:8080/"
        },
        "id": "n-H1u59mcb0F",
        "outputId": "609394f7-7de4-4b07-ce12-ed01cdc6d13f"
      },
      "outputs": [
        {
          "output_type": "execute_result",
          "data": {
            "text/plain": [
              "Date            False\n",
              "Organisation    False\n",
              "Amount          False\n",
              "dtype: bool"
            ]
          },
          "metadata": {},
          "execution_count": 162
        }
      ],
      "source": [
        "#lets check for other data frames as well\n",
        "investment.isnull().any()"
      ]
    },
    {
      "cell_type": "code",
      "execution_count": null,
      "metadata": {
        "colab": {
          "base_uri": "https://localhost:8080/",
          "height": 53
        },
        "id": "1hLrOfyGcb0F",
        "outputId": "64daccd3-c5c6-4735-f137-b6bdf4b516b9"
      },
      "outputs": [
        {
          "output_type": "execute_result",
          "data": {
            "text/plain": [
              "Empty DataFrame\n",
              "Columns: [Date, Organisation, Amount]\n",
              "Index: []"
            ],
            "text/html": [
              "\n",
              "  <div id=\"df-f333e1ec-53cd-41e4-995a-8a51724b6b78\" class=\"colab-df-container\">\n",
              "    <div>\n",
              "<style scoped>\n",
              "    .dataframe tbody tr th:only-of-type {\n",
              "        vertical-align: middle;\n",
              "    }\n",
              "\n",
              "    .dataframe tbody tr th {\n",
              "        vertical-align: top;\n",
              "    }\n",
              "\n",
              "    .dataframe thead th {\n",
              "        text-align: right;\n",
              "    }\n",
              "</style>\n",
              "<table border=\"1\" class=\"dataframe\">\n",
              "  <thead>\n",
              "    <tr style=\"text-align: right;\">\n",
              "      <th></th>\n",
              "      <th>Date</th>\n",
              "      <th>Organisation</th>\n",
              "      <th>Amount</th>\n",
              "    </tr>\n",
              "  </thead>\n",
              "  <tbody>\n",
              "  </tbody>\n",
              "</table>\n",
              "</div>\n",
              "    <div class=\"colab-df-buttons\">\n",
              "\n",
              "  <div class=\"colab-df-container\">\n",
              "    <button class=\"colab-df-convert\" onclick=\"convertToInteractive('df-f333e1ec-53cd-41e4-995a-8a51724b6b78')\"\n",
              "            title=\"Convert this dataframe to an interactive table.\"\n",
              "            style=\"display:none;\">\n",
              "\n",
              "  <svg xmlns=\"http://www.w3.org/2000/svg\" height=\"24px\" viewBox=\"0 -960 960 960\">\n",
              "    <path d=\"M120-120v-720h720v720H120Zm60-500h600v-160H180v160Zm220 220h160v-160H400v160Zm0 220h160v-160H400v160ZM180-400h160v-160H180v160Zm440 0h160v-160H620v160ZM180-180h160v-160H180v160Zm440 0h160v-160H620v160Z\"/>\n",
              "  </svg>\n",
              "    </button>\n",
              "\n",
              "  <style>\n",
              "    .colab-df-container {\n",
              "      display:flex;\n",
              "      gap: 12px;\n",
              "    }\n",
              "\n",
              "    .colab-df-convert {\n",
              "      background-color: #E8F0FE;\n",
              "      border: none;\n",
              "      border-radius: 50%;\n",
              "      cursor: pointer;\n",
              "      display: none;\n",
              "      fill: #1967D2;\n",
              "      height: 32px;\n",
              "      padding: 0 0 0 0;\n",
              "      width: 32px;\n",
              "    }\n",
              "\n",
              "    .colab-df-convert:hover {\n",
              "      background-color: #E2EBFA;\n",
              "      box-shadow: 0px 1px 2px rgba(60, 64, 67, 0.3), 0px 1px 3px 1px rgba(60, 64, 67, 0.15);\n",
              "      fill: #174EA6;\n",
              "    }\n",
              "\n",
              "    .colab-df-buttons div {\n",
              "      margin-bottom: 4px;\n",
              "    }\n",
              "\n",
              "    [theme=dark] .colab-df-convert {\n",
              "      background-color: #3B4455;\n",
              "      fill: #D2E3FC;\n",
              "    }\n",
              "\n",
              "    [theme=dark] .colab-df-convert:hover {\n",
              "      background-color: #434B5C;\n",
              "      box-shadow: 0px 1px 3px 1px rgba(0, 0, 0, 0.15);\n",
              "      filter: drop-shadow(0px 1px 2px rgba(0, 0, 0, 0.3));\n",
              "      fill: #FFFFFF;\n",
              "    }\n",
              "  </style>\n",
              "\n",
              "    <script>\n",
              "      const buttonEl =\n",
              "        document.querySelector('#df-f333e1ec-53cd-41e4-995a-8a51724b6b78 button.colab-df-convert');\n",
              "      buttonEl.style.display =\n",
              "        google.colab.kernel.accessAllowed ? 'block' : 'none';\n",
              "\n",
              "      async function convertToInteractive(key) {\n",
              "        const element = document.querySelector('#df-f333e1ec-53cd-41e4-995a-8a51724b6b78');\n",
              "        const dataTable =\n",
              "          await google.colab.kernel.invokeFunction('convertToInteractive',\n",
              "                                                    [key], {});\n",
              "        if (!dataTable) return;\n",
              "\n",
              "        const docLinkHtml = 'Like what you see? Visit the ' +\n",
              "          '<a target=\"_blank\" href=https://colab.research.google.com/notebooks/data_table.ipynb>data table notebook</a>'\n",
              "          + ' to learn more about interactive tables.';\n",
              "        element.innerHTML = '';\n",
              "        dataTable['output_type'] = 'display_data';\n",
              "        await google.colab.output.renderOutput(dataTable, element);\n",
              "        const docLink = document.createElement('div');\n",
              "        docLink.innerHTML = docLinkHtml;\n",
              "        element.appendChild(docLink);\n",
              "      }\n",
              "    </script>\n",
              "  </div>\n",
              "\n",
              "    </div>\n",
              "  </div>\n"
            ]
          },
          "metadata": {},
          "execution_count": 163
        }
      ],
      "source": [
        "shopping.isnull()"
      ]
    },
    {
      "cell_type": "code",
      "execution_count": null,
      "metadata": {
        "collapsed": true,
        "jupyter": {
          "outputs_hidden": true
        },
        "colab": {
          "base_uri": "https://localhost:8080/"
        },
        "id": "dyGQc8pecb0G",
        "outputId": "51157ba4-c4e0-4a7b-e0ec-9f3ca8d5097e"
      },
      "outputs": [
        {
          "output_type": "execute_result",
          "data": {
            "text/plain": [
              "Date            False\n",
              "Organisation    False\n",
              "Amount          False\n",
              "dtype: bool"
            ]
          },
          "metadata": {},
          "execution_count": 164
        }
      ],
      "source": [
        "#similary we can check for the other category\n",
        "grocery.isnull().any()\n",
        "transport.isnull().any()\n",
        "other.isnull().any()\n",
        "home.isnull().any()"
      ]
    },
    {
      "cell_type": "code",
      "execution_count": null,
      "metadata": {
        "colab": {
          "base_uri": "https://localhost:8080/",
          "height": 312
        },
        "id": "H5pSJ7nVcb0G",
        "outputId": "06b65e12-945c-4509-f4f6-816a2d7b36f8"
      },
      "outputs": [
        {
          "output_type": "execute_result",
          "data": {
            "text/plain": [
              "<BarContainer object of 1 artists>"
            ]
          },
          "metadata": {},
          "execution_count": 166
        },
        {
          "output_type": "display_data",
          "data": {
            "text/plain": [
              "<Figure size 2400x500 with 1 Axes>"
            ],
            "image/png": "[encoded data removed]"
          },
          "metadata": {}
        }
      ],
      "source": [
        "#since everything looks fine we will move to the next important step\n",
        "#DATA ANALYSIS\n",
        "plt.figure(figsize=(24,5))\n",
        "plt.bar(entertainment['Organisation'],entertainment['Amount'])"
      ]
    },
    {
      "cell_type": "code",
      "execution_count": null,
      "metadata": {
        "colab": {
          "base_uri": "https://localhost:8080/",
          "height": 469
        },
        "id": "tpqU4343cb0G",
        "outputId": "685c84a7-2586-4b80-dd20-a413a08b93a8"
      },
      "outputs": [
        {
          "output_type": "execute_result",
          "data": {
            "text/plain": [
              "<Axes: title={'center': 'entertainment expenditure'}, ylabel='Organisation'>"
            ]
          },
          "metadata": {},
          "execution_count": 168
        },
        {
          "output_type": "display_data",
          "data": {
            "text/plain": [
              "<Figure size 640x480 with 1 Axes>"
            ],
            "image/png": "[encoded data removed]"
          },
          "metadata": {}
        }
      ],
      "source": [
        "#lets make it more readble and analyzable\n",
        "entertainment.plot(x='Organisation',\n",
        "                   y='Amount',\n",
        "                   kind='barh',\n",
        "                   title='entertainment expenditure')"
      ]
    },
    {
      "cell_type": "code",
      "execution_count": null,
      "metadata": {
        "colab": {
          "base_uri": "https://localhost:8080/",
          "height": 492
        },
        "id": "UaVgWWdAcb0H",
        "outputId": "a047ef7b-c4fe-4d12-dcfa-65200e3cdb4d"
      },
      "outputs": [
        {
          "output_type": "display_data",
          "data": {
            "text/plain": [
              "<Figure size 640x480 with 1 Axes>"
            ],
            "image/png": "[encoded data removed]"
          },
          "metadata": {}
        }
      ],
      "source": [
        "#its time to make pie chart\n",
        "#here i will make pie chart using three ways just to see which one fits the best\n",
        "labels=[]\n",
        "for i in entertainment['Organisation']:\n",
        "    labels.append(i)\n",
        "amount=[]\n",
        "for i in entertainment['Amount']:\n",
        "    amount.append(i)\n",
        "plt.pie(amount, labels=labels, autopct='%1.1f%%',\n",
        "        shadow=True, startangle=90)\n",
        "\n",
        "plt.axis('equal')\n",
        "plt.tight_layout()\n",
        "#entertainment.plot(x='organisation',y='amount',kind='barh',title='entertainment expenditure')\n",
        "plt.show()"
      ]
    },
    {
      "cell_type": "code",
      "execution_count": null,
      "metadata": {
        "colab": {
          "base_uri": "https://localhost:8080/",
          "height": 406
        },
        "id": "kcagcNIScb0H",
        "outputId": "d22f191f-094c-48a3-e64d-8acbdc14e278"
      },
      "outputs": [
        {
          "output_type": "display_data",
          "data": {
            "text/plain": [
              "<Figure size 640x480 with 1 Axes>"
            ],
            "image/png": "[encoded data removed]"
          },
          "metadata": {}
        }
      ],
      "source": [
        "#yucks this plot is too messy\n",
        "#lets try other way\n",
        "#this is donut plot\n",
        "# create a figure and set different background\n",
        "fig = plt.figure()\n",
        "fig.patch.set_facecolor('#B7AC9C')\n",
        "# Change color of text and make a circle\n",
        "plt.rcParams['text.color'] = 'black'\n",
        "my_circle=plt.Circle( (0,0), 0.6,color='#B7AC9C' )\n",
        "# Pieplot + circle on it\n",
        "plt.pie(amount, labels=labels)\n",
        "p=plt.gcf()\n",
        "p.gca().add_artist(my_circle)\n",
        "plt.show()"
      ]
    },
    {
      "cell_type": "code",
      "execution_count": null,
      "metadata": {
        "colab": {
          "base_uri": "https://localhost:8080/",
          "height": 1000
        },
        "id": "YyO3bZ6Gcb0I",
        "outputId": "612fa965-c57d-4498-e9b6-297cecdaa6e3"
      },
      "outputs": [
        {
          "output_type": "display_data",
          "data": {
            "text/plain": [
              "<Figure size 640x480 with 4 Axes>"
            ],
            "image/png": "[encoded data removed]"
          },
          "metadata": {}
        },
        {
          "output_type": "display_data",
          "data": {
            "text/plain": [
              "<Figure size 640x480 with 1 Axes>"
            ],
            "image/png": "[encoded data removed]"
          },
          "metadata": {}
        },
        {
          "output_type": "display_data",
          "data": {
            "text/plain": [
              "<Figure size 640x480 with 1 Axes>"
            ],
            "image/png": "[encoded data removed]"
          },
          "metadata": {}
        }
      ],
      "source": [
        "#this seems nice\n",
        "#lets do this for other category as well\n",
        "#similarly we will look at grocery and shopping\n",
        "#colors = [\"#1f77b4\", \"#ff7f0e\", \"#2ca02c\", \"#d62728\", \"#8c564b\",\"#B7AC9C\"]\n",
        "plt.subplot(221)\n",
        "plt.pie(grocery['Amount'], labels=grocery['Organisation'],\n",
        "autopct='%1.1f%%', shadow=True, startangle=140,)\n",
        "plt.title(\"grocery expenditure\")\n",
        "plt.subplot(222)\n",
        "plt.pie(shopping['Amount'], labels=shopping['Organisation'],\n",
        "autopct='%1.1f%%', shadow=True, startangle=140)\n",
        "plt.title(\"shopping expenditure\")\n",
        "plt.subplot(223)\n",
        "plt.pie(home['Amount'], labels=home['Organisation'],\n",
        "autopct='%1.1f%%', shadow=True, startangle=140)\n",
        "plt.title(\"home expenditure\")\n",
        "plt.subplot(224)\n",
        "plt.pie(transport['Amount'], labels=transport['Organisation'],\n",
        "autopct='%1.1f%%', shadow=True, startangle=0)\n",
        "plt.title(\"transport expenditure\")\n",
        "#plt.legend(labels)\n",
        "plt.show()\n",
        "plt.pie(other['Amount'], labels=other['Organisation'], autopct='%1.1f%%', shadow=True, startangle=0)\n",
        "plt.title(\"other expenditure\")\n",
        "plt.show()\n",
        "plt.pie(investment['Amount'], labels=investment['Organisation'], autopct='%1.1f%%', shadow=True, startangle=0)\n",
        "plt.title(\"investment expenditure\")\n",
        "plt.show()"
      ]
    },
    {
      "cell_type": "code",
      "execution_count": null,
      "metadata": {
        "id": "lx0os_lecb0I"
      },
      "outputs": [],
      "source": [
        "#lets merge all the expenditure and save it to other csv\n",
        "category=['entertainment','investment','shopping','grocery','transport','home','others']\n",
        "#lets sum all the expenditure category wise\n",
        "total_entertainment=entertainment['Amount'].sum()\n",
        "total_investment=investment['Amount'].sum()\n",
        "total_shopping=shopping['Amount'].sum()\n",
        "total_grocery=grocery['Amount'].sum()\n",
        "total_transport=transport['Amount'].sum()\n",
        "total_home=home['Amount'].sum()\n",
        "total_others=other['Amount'].sum()\n",
        "amount=[total_entertainment,total_investment,total_shopping,total_grocery,total_transport,total_home,total_others]"
      ]
    },
    {
      "cell_type": "code",
      "execution_count": null,
      "metadata": {
        "id": "kOtkPMtgcb0I"
      },
      "outputs": [],
      "source": [
        "data={'category':category,'total':amount}"
      ]
    },
    {
      "cell_type": "code",
      "execution_count": null,
      "metadata": {
        "id": "J3xrK3SBcb0J"
      },
      "outputs": [],
      "source": [
        "#here we created a new table which shows the total expenditure of all the category\n",
        "df = pd.DataFrame(data)"
      ]
    },
    {
      "cell_type": "code",
      "execution_count": null,
      "metadata": {
        "colab": {
          "base_uri": "https://localhost:8080/",
          "height": 269
        },
        "id": "ExXGvESlcb0J",
        "outputId": "d055f0bd-23c6-4f6e-c077-4e120b9022ea"
      },
      "outputs": [
        {
          "output_type": "execute_result",
          "data": {
            "text/plain": [
              "        category  total\n",
              "0  entertainment  12.59\n",
              "1     investment   0.00\n",
              "2       shopping   0.00\n",
              "3        grocery   0.00\n",
              "4      transport   0.00\n",
              "5           home   0.00\n",
              "6         others   0.00"
            ],
            "text/html": [
              "\n",
              "  <div id=\"df-70585ddd-f93e-4ac6-8d26-b8dbc6f4d17b\" class=\"colab-df-container\">\n",
              "    <div>\n",
              "<style scoped>\n",
              "    .dataframe tbody tr th:only-of-type {\n",
              "        vertical-align: middle;\n",
              "    }\n",
              "\n",
              "    .dataframe tbody tr th {\n",
              "        vertical-align: top;\n",
              "    }\n",
              "\n",
              "    .dataframe thead th {\n",
              "        text-align: right;\n",
              "    }\n",
              "</style>\n",
              "<table border=\"1\" class=\"dataframe\">\n",
              "  <thead>\n",
              "    <tr style=\"text-align: right;\">\n",
              "      <th></th>\n",
              "      <th>category</th>\n",
              "      <th>total</th>\n",
              "    </tr>\n",
              "  </thead>\n",
              "  <tbody>\n",
              "    <tr>\n",
              "      <th>0</th>\n",
              "      <td>entertainment</td>\n",
              "      <td>12.59</td>\n",
              "    </tr>\n",
              "    <tr>\n",
              "      <th>1</th>\n",
              "      <td>investment</td>\n",
              "      <td>0.00</td>\n",
              "    </tr>\n",
              "    <tr>\n",
              "      <th>2</th>\n",
              "      <td>shopping</td>\n",
              "      <td>0.00</td>\n",
              "    </tr>\n",
              "    <tr>\n",
              "      <th>3</th>\n",
              "      <td>grocery</td>\n",
              "      <td>0.00</td>\n",
              "    </tr>\n",
              "    <tr>\n",
              "      <th>4</th>\n",
              "      <td>transport</td>\n",
              "      <td>0.00</td>\n",
              "    </tr>\n",
              "    <tr>\n",
              "      <th>5</th>\n",
              "      <td>home</td>\n",
              "      <td>0.00</td>\n",
              "    </tr>\n",
              "    <tr>\n",
              "      <th>6</th>\n",
              "      <td>others</td>\n",
              "      <td>0.00</td>\n",
              "    </tr>\n",
              "  </tbody>\n",
              "</table>\n",
              "</div>\n",
              "    <div class=\"colab-df-buttons\">\n",
              "\n",
              "  <div class=\"colab-df-container\">\n",
              "    <button class=\"colab-df-convert\" onclick=\"convertToInteractive('df-70585ddd-f93e-4ac6-8d26-b8dbc6f4d17b')\"\n",
              "            title=\"Convert this dataframe to an interactive table.\"\n",
              "            style=\"display:none;\">\n",
              "\n",
              "  <svg xmlns=\"http://www.w3.org/2000/svg\" height=\"24px\" viewBox=\"0 -960 960 960\">\n",
              "    <path d=\"M120-120v-720h720v720H120Zm60-500h600v-160H180v160Zm220 220h160v-160H400v160Zm0 220h160v-160H400v160ZM180-400h160v-160H180v160Zm440 0h160v-160H620v160ZM180-180h160v-160H180v160Zm440 0h160v-160H620v160Z\"/>\n",
              "  </svg>\n",
              "    </button>\n",
              "\n",
              "  <style>\n",
              "    .colab-df-container {\n",
              "      display:flex;\n",
              "      gap: 12px;\n",
              "    }\n",
              "\n",
              "    .colab-df-convert {\n",
              "      background-color: #E8F0FE;\n",
              "      border: none;\n",
              "      border-radius: 50%;\n",
              "      cursor: pointer;\n",
              "      display: none;\n",
              "      fill: #1967D2;\n",
              "      height: 32px;\n",
              "      padding: 0 0 0 0;\n",
              "      width: 32px;\n",
              "    }\n",
              "\n",
              "    .colab-df-convert:hover {\n",
              "      background-color: #E2EBFA;\n",
              "      box-shadow: 0px 1px 2px rgba(60, 64, 67, 0.3), 0px 1px 3px 1px rgba(60, 64, 67, 0.15);\n",
              "      fill: #174EA6;\n",
              "    }\n",
              "\n",
              "    .colab-df-buttons div {\n",
              "      margin-bottom: 4px;\n",
              "    }\n",
              "\n",
              "    [theme=dark] .colab-df-convert {\n",
              "      background-color: #3B4455;\n",
              "      fill: #D2E3FC;\n",
              "    }\n",
              "\n",
              "    [theme=dark] .colab-df-convert:hover {\n",
              "      background-color: #434B5C;\n",
              "      box-shadow: 0px 1px 3px 1px rgba(0, 0, 0, 0.15);\n",
              "      filter: drop-shadow(0px 1px 2px rgba(0, 0, 0, 0.3));\n",
              "      fill: #FFFFFF;\n",
              "    }\n",
              "  </style>\n",
              "\n",
              "    <script>\n",
              "      const buttonEl =\n",
              "        document.querySelector('#df-70585ddd-f93e-4ac6-8d26-b8dbc6f4d17b button.colab-df-convert');\n",
              "      buttonEl.style.display =\n",
              "        google.colab.kernel.accessAllowed ? 'block' : 'none';\n",
              "\n",
              "      async function convertToInteractive(key) {\n",
              "        const element = document.querySelector('#df-70585ddd-f93e-4ac6-8d26-b8dbc6f4d17b');\n",
              "        const dataTable =\n",
              "          await google.colab.kernel.invokeFunction('convertToInteractive',\n",
              "                                                    [key], {});\n",
              "        if (!dataTable) return;\n",
              "\n",
              "        const docLinkHtml = 'Like what you see? Visit the ' +\n",
              "          '<a target=\"_blank\" href=https://colab.research.google.com/notebooks/data_table.ipynb>data table notebook</a>'\n",
              "          + ' to learn more about interactive tables.';\n",
              "        element.innerHTML = '';\n",
              "        dataTable['output_type'] = 'display_data';\n",
              "        await google.colab.output.renderOutput(dataTable, element);\n",
              "        const docLink = document.createElement('div');\n",
              "        docLink.innerHTML = docLinkHtml;\n",
              "        element.appendChild(docLink);\n",
              "      }\n",
              "    </script>\n",
              "  </div>\n",
              "\n",
              "\n",
              "<div id=\"df-e1c71334-e891-46e2-a8cf-cb69597cb315\">\n",
              "  <button class=\"colab-df-quickchart\" onclick=\"quickchart('df-e1c71334-e891-46e2-a8cf-cb69597cb315')\"\n",
              "            title=\"Suggest charts\"\n",
              "            style=\"display:none;\">\n",
              "\n",
              "<svg xmlns=\"http://www.w3.org/2000/svg\" height=\"24px\"viewBox=\"0 0 24 24\"\n",
              "     width=\"24px\">\n",
              "    <g>\n",
              "        <path d=\"M19 3H5c-1.1 0-2 .9-2 2v14c0 1.1.9 2 2 2h14c1.1 0 2-.9 2-2V5c0-1.1-.9-2-2-2zM9 17H7v-7h2v7zm4 0h-2V7h2v10zm4 0h-2v-4h2v4z\"/>\n",
              "    </g>\n",
              "</svg>\n",
              "  </button>\n",
              "\n",
              "<style>\n",
              "  .colab-df-quickchart {\n",
              "      --bg-color: #E8F0FE;\n",
              "      --fill-color: #1967D2;\n",
              "      --hover-bg-color: #E2EBFA;\n",
              "      --hover-fill-color: #174EA6;\n",
              "      --disabled-fill-color: #AAA;\n",
              "      --disabled-bg-color: #DDD;\n",
              "  }\n",
              "\n",
              "  [theme=dark] .colab-df-quickchart {\n",
              "      --bg-color: #3B4455;\n",
              "      --fill-color: #D2E3FC;\n",
              "      --hover-bg-color: #434B5C;\n",
              "      --hover-fill-color: #FFFFFF;\n",
              "      --disabled-bg-color: #3B4455;\n",
              "      --disabled-fill-color: #666;\n",
              "  }\n",
              "\n",
              "  .colab-df-quickchart {\n",
              "    background-color: var(--bg-color);\n",
              "    border: none;\n",
              "    border-radius: 50%;\n",
              "    cursor: pointer;\n",
              "    display: none;\n",
              "    fill: var(--fill-color);\n",
              "    height: 32px;\n",
              "    padding: 0;\n",
              "    width: 32px;\n",
              "  }\n",
              "\n",
              "  .colab-df-quickchart:hover {\n",
              "    background-color: var(--hover-bg-color);\n",
              "    box-shadow: 0 1px 2px rgba(60, 64, 67, 0.3), 0 1px 3px 1px rgba(60, 64, 67, 0.15);\n",
              "    fill: var(--button-hover-fill-color);\n",
              "  }\n",
              "\n",
              "  .colab-df-quickchart-complete:disabled,\n",
              "  .colab-df-quickchart-complete:disabled:hover {\n",
              "    background-color: var(--disabled-bg-color);\n",
              "    fill: var(--disabled-fill-color);\n",
              "    box-shadow: none;\n",
              "  }\n",
              "\n",
              "  .colab-df-spinner {\n",
              "    border: 2px solid var(--fill-color);\n",
              "    border-color: transparent;\n",
              "    border-bottom-color: var(--fill-color);\n",
              "    animation:\n",
              "      spin 1s steps(1) infinite;\n",
              "  }\n",
              "\n",
              "  @keyframes spin {\n",
              "    0% {\n",
              "      border-color: transparent;\n",
              "      border-bottom-color: var(--fill-color);\n",
              "      border-left-color: var(--fill-color);\n",
              "    }\n",
              "    20% {\n",
              "      border-color: transparent;\n",
              "      border-left-color: var(--fill-color);\n",
              "      border-top-color: var(--fill-color);\n",
              "    }\n",
              "    30% {\n",
              "      border-color: transparent;\n",
              "      border-left-color: var(--fill-color);\n",
              "      border-top-color: var(--fill-color);\n",
              "      border-right-color: var(--fill-color);\n",
              "    }\n",
              "    40% {\n",
              "      border-color: transparent;\n",
              "      border-right-color: var(--fill-color);\n",
              "      border-top-color: var(--fill-color);\n",
              "    }\n",
              "    60% {\n",
              "      border-color: transparent;\n",
              "      border-right-color: var(--fill-color);\n",
              "    }\n",
              "    80% {\n",
              "      border-color: transparent;\n",
              "      border-right-color: var(--fill-color);\n",
              "      border-bottom-color: var(--fill-color);\n",
              "    }\n",
              "    90% {\n",
              "      border-color: transparent;\n",
              "      border-bottom-color: var(--fill-color);\n",
              "    }\n",
              "  }\n",
              "</style>\n",
              "\n",
              "  <script>\n",
              "    async function quickchart(key) {\n",
              "      const quickchartButtonEl =\n",
              "        document.querySelector('#' + key + ' button');\n",
              "      quickchartButtonEl.disabled = true;  // To prevent multiple clicks.\n",
              "      quickchartButtonEl.classList.add('colab-df-spinner');\n",
              "      try {\n",
              "        const charts = await google.colab.kernel.invokeFunction(\n",
              "            'suggestCharts', [key], {});\n",
              "      } catch (error) {\n",
              "        console.error('Error during call to suggestCharts:', error);\n",
              "      }\n",
              "      quickchartButtonEl.classList.remove('colab-df-spinner');\n",
              "      quickchartButtonEl.classList.add('colab-df-quickchart-complete');\n",
              "    }\n",
              "    (() => {\n",
              "      let quickchartButtonEl =\n",
              "        document.querySelector('#df-e1c71334-e891-46e2-a8cf-cb69597cb315 button');\n",
              "      quickchartButtonEl.style.display =\n",
              "        google.colab.kernel.accessAllowed ? 'block' : 'none';\n",
              "    })();\n",
              "  </script>\n",
              "</div>\n",
              "    </div>\n",
              "  </div>\n"
            ]
          },
          "metadata": {},
          "execution_count": 179
        }
      ],
      "source": [
        "df.head(10)"
      ]
    },
    {
      "cell_type": "code",
      "execution_count": null,
      "metadata": {
        "colab": {
          "base_uri": "https://localhost:8080/",
          "height": 863
        },
        "id": "g2m9RuYGcb0J",
        "outputId": "19cff3ed-1fa5-43f7-cea6-7ed5c9d3c32b"
      },
      "outputs": [
        {
          "output_type": "display_data",
          "data": {
            "text/plain": [
              "<Figure size 640x480 with 1 Axes>"
            ],
            "image/png": "[encoded data removed]"
          },
          "metadata": {}
        },
        {
          "output_type": "display_data",
          "data": {
            "text/plain": [
              "<Figure size 640x480 with 1 Axes>"
            ],
            "image/png": "[encoded data removed]"
          },
          "metadata": {}
        }
      ],
      "source": [
        "#lets plot a piechart and bar to analzye where we used\n",
        "#colors = [\"#1f77b4\", \"#ff7f0e\", \"#2ca02c\", \"#d62728\", \"#8c564b\",\"#B7AC9C\"]\n",
        "\n",
        "plt.pie(df['total'], labels=df['category'], autopct='%1.1f%%', shadow=True, startangle=140)\n",
        "plt.title(\" expenditure\")\n",
        "\n",
        "df.plot(x='category',y='total',kind='barh',title='entertainment expenditure')\n",
        "plt.show()"
      ]
    },
    {
      "cell_type": "code",
      "execution_count": null,
      "metadata": {
        "colab": {
          "base_uri": "https://localhost:8080/",
          "height": 268
        },
        "id": "pD5pfrJwcb0J",
        "outputId": "bea97b53-60ae-481d-8fd8-b008c4223a1b"
      },
      "outputs": [
        {
          "output_type": "display_data",
          "data": {
            "text/plain": [
              "<Figure size 600x300 with 1 Axes>"
            ],
            "image/png": "[encoded data removed]"
          },
          "metadata": {}
        }
      ],
      "source": [
        "fig, ax = plt.subplots(figsize=(6, 3), subplot_kw=dict(aspect=\"equal\"))\n",
        "wedges, texts = ax.pie(df['total'], wedgeprops=dict(width=0.5), startangle=-40)\n",
        "bbox_props = dict(boxstyle=\"square,pad=0.3\", fc=\"w\", ec=\"k\", lw=0.72)\n",
        "kw = dict(arrowprops=dict(arrowstyle=\"-\"),\n",
        "          bbox=bbox_props, zorder=0, va=\"center\")\n",
        "\n",
        "for i, p in enumerate(wedges):\n",
        "    ang = (p.theta2 - p.theta1)/2. + p.theta1\n",
        "    y = np.sin(np.deg2rad(ang))\n",
        "    x = np.cos(np.deg2rad(ang))\n",
        "    horizontalalignment = {-1: \"right\", 1: \"left\"}[int(np.sign(x))]\n",
        "    connectionstyle = \"angle,angleA=0,angleB={}\".format(ang)\n",
        "    kw[\"arrowprops\"].update({\"connectionstyle\": connectionstyle})\n",
        "    ax.annotate(category[i], xy=(x, y), xytext=(1.35*np.sign(x), 1.4*y),\n",
        "                horizontalalignment=horizontalalignment, **kw)\n",
        "plt.show()\n"
      ]
    },
    {
      "cell_type": "code",
      "execution_count": null,
      "metadata": {
        "colab": {
          "base_uri": "https://localhost:8080/",
          "height": 469
        },
        "id": "s6sq2Ig3cb0K",
        "outputId": "88e0180e-3f87-47b4-8214-57ba41fd9d9d"
      },
      "outputs": [
        {
          "output_type": "execute_result",
          "data": {
            "text/plain": [
              "<Axes: title={'center': 'entertainment expenditure'}, ylabel='category'>"
            ]
          },
          "metadata": {},
          "execution_count": 182
        },
        {
          "output_type": "display_data",
          "data": {
            "text/plain": [
              "<Figure size 640x480 with 1 Axes>"
            ],
            "image/png": "[encoded data removed]"
          },
          "metadata": {}
        }
      ],
      "source": [
        "#wohooo we completed with the piechart\n",
        "#nowlets move to last question\n",
        "#lets make a inferance\n",
        "ordered_df = df.sort_values(by='total')\n",
        "data_sort=ordered_df\n",
        "\n",
        "data_sort.plot(x='category',y='total',kind='barh',title='entertainment expenditure')"
      ]
    },
    {
      "cell_type": "code",
      "execution_count": null,
      "metadata": {
        "id": "Fq8iU2NVcb0K"
      },
      "outputs": [],
      "source": [
        "#this used to calculate the percentage  of every category\n",
        "percent=[]\n",
        "for i in df['total']:\n",
        "    per=int((i/df['total'].sum())*100)\n",
        "    percent.append(per)\n",
        "\n",
        "percent.sort()"
      ]
    },
    {
      "cell_type": "code",
      "execution_count": null,
      "metadata": {
        "colab": {
          "base_uri": "https://localhost:8080/"
        },
        "id": "ElkxPn6Fcb0L",
        "outputId": "e4c6a330-78ce-4727-ff51-17445923ab69"
      },
      "outputs": [
        {
          "output_type": "stream",
          "name": "stdout",
          "text": [
            "0%  of your expenditure in investment category\n",
            "0%  of your expenditure in shopping category\n",
            "0%  of your expenditure in grocery category\n",
            "0%  of your expenditure in transport category\n",
            "0%  of your expenditure in home category\n",
            "0%  of your expenditure in others category\n",
            "100%  of your expenditure in entertainment category\n"
          ]
        }
      ],
      "source": [
        "#question4\n",
        "#from the above graph we can conclude that we have invested maximum money\n",
        "#now lets see how much we have used in all category\n",
        "for i in range(len(df)):\n",
        "    print(\"{}%  of your expenditure in {} category\".format(percent[i],data_sort['category'].iloc[i]))"
      ]
    },
    {
      "cell_type": "markdown",
      "metadata": {
        "id": "6P_QmBMOcb0L"
      },
      "source": [
        "conclusion:\n",
        "\n",
        "Expense data provides detailed insights into entertainment expenditure such as, how much and how frequently the we went for movies and resturant. It is easier for us to cut down on these expenses.\n",
        "\n",
        "as we can go once a month and we also need to take care of our health. the above Data analytics determined us where to find cost-saving opportunities, validate expenses, and point out the areas to invest more.The investment has maximum as it is necessary to invest for second source of income.The grocery expense detail is not completety true as  grocery vendors in india does not provide bill.the data for grocery used is of supermarket that we go sometimes. the transport category is less as i dont have petrol bills, and we have our own vehical. so we usually don't take taxi. to cut the transportation cost we can use city bus.\n",
        "\n",
        "here are some money saving tips:\n",
        "1. evaluate your spending\n",
        "2. set a montly budget\n",
        "3. track your spending,if it goes above the limits try to cut down  or spend less the next month in that category\n",
        "4. plan out your meals for the week so that you can avoid randomly going out and spending unnesscerily\n",
        "5. cut out cable.wifi is enough ,no need for tv.with services like Hulu, Netflix and Amazon Prime, you can now watch your favorite TV shows and movies for a fraction of the cost of cable TV.\n"
      ]
    },
    {
      "cell_type": "code",
      "execution_count": null,
      "metadata": {
        "id": "tMp76iKHcb0L"
      },
      "outputs": [],
      "source": []
    }
  ],
  "metadata": {
    "kernelspec": {
      "display_name": "Python 3",
      "language": "python",
      "name": "python3"
    },
    "language_info": {
      "codemirror_mode": {
        "name": "ipython",
        "version": 3
      },
      "file_extension": ".py",
      "mimetype": "text/x-python",
      "name": "python",
      "nbconvert_exporter": "python",
      "pygments_lexer": "ipython3",
      "version": "3.7.3"
    },
    "colab": {
      "provenance": []
    }
  },
  "nbformat": 4,
  "nbformat_minor": 0
}